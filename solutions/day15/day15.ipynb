{
 "cells": [
  {
   "cell_type": "code",
   "execution_count": 1,
   "id": "9c1c9756-6d96-401f-9618-d9833e6c56e9",
   "metadata": {},
   "outputs": [],
   "source": [
    "import numpy as np"
   ]
  },
  {
   "cell_type": "code",
   "execution_count": 2,
   "id": "7eb14383-20ed-462c-b374-2dbb4744a770",
   "metadata": {},
   "outputs": [],
   "source": [
    "with open(\"test.txt\") as f:\n",
    "    test = f.read().splitlines()"
   ]
  },
  {
   "cell_type": "code",
   "execution_count": 3,
   "id": "d54ef808-7b9b-4f58-8fa3-418ff47adfe0",
   "metadata": {},
   "outputs": [
    {
     "data": {
      "text/plain": [
       "'Sensor at x=2, y=18: closest beacon is at x=-2, y=15'"
      ]
     },
     "execution_count": 3,
     "metadata": {},
     "output_type": "execute_result"
    }
   ],
   "source": [
    "test[0]"
   ]
  },
  {
   "cell_type": "code",
   "execution_count": 4,
   "id": "cc410cf4-69f2-4c81-b639-564c5cfee547",
   "metadata": {},
   "outputs": [
    {
     "data": {
      "text/plain": [
       "['x=2,', 'y=18:', 'x=-2,', 'y=15']"
      ]
     },
     "execution_count": 4,
     "metadata": {},
     "output_type": "execute_result"
    }
   ],
   "source": [
    "xys = [coord for coord in test[0].split() if \"=\" in coord]\n",
    "xys"
   ]
  },
  {
   "cell_type": "markdown",
   "id": "70b8c944-9c99-4a4f-9b1b-5723caec204c",
   "metadata": {},
   "source": [
    "Account for ',' and ':'"
   ]
  },
  {
   "cell_type": "code",
   "execution_count": 5,
   "id": "4083ff15-4c6d-49ad-a901-fe6330160f3c",
   "metadata": {},
   "outputs": [
    {
     "data": {
      "text/plain": [
       "'x=2'"
      ]
     },
     "execution_count": 5,
     "metadata": {},
     "output_type": "execute_result"
    }
   ],
   "source": [
    "xys[0].strip(',')"
   ]
  },
  {
   "cell_type": "code",
   "execution_count": 6,
   "id": "75f66e54-6651-43e2-bded-96a41e7e6146",
   "metadata": {},
   "outputs": [],
   "source": [
    "import re"
   ]
  },
  {
   "cell_type": "code",
   "execution_count": 7,
   "id": "08944bc9-1ef3-4c8e-a084-4fe3c824afb4",
   "metadata": {},
   "outputs": [
    {
     "data": {
      "text/plain": [
       "'tempo'"
      ]
     },
     "execution_count": 7,
     "metadata": {},
     "output_type": "execute_result"
    }
   ],
   "source": [
    "p = re.compile('[a-z]+')\n",
    "m = p.match('tempo')\n",
    "m.group()"
   ]
  },
  {
   "cell_type": "code",
   "execution_count": 8,
   "id": "70710bc5-367f-47a2-b3cb-5d0654197a0c",
   "metadata": {},
   "outputs": [
    {
     "data": {
      "text/plain": [
       "['2', '18', '-2', '15']"
      ]
     },
     "execution_count": 8,
     "metadata": {},
     "output_type": "execute_result"
    }
   ],
   "source": [
    "p = re.compile('-?\\d+')\n",
    "p.findall(test[0])"
   ]
  },
  {
   "cell_type": "code",
   "execution_count": 9,
   "id": "43b6b714-961e-4cd5-b9e2-b9daf006cd9a",
   "metadata": {},
   "outputs": [
    {
     "data": {
      "text/plain": [
       "['2', '18', '-2', '15']"
      ]
     },
     "execution_count": 9,
     "metadata": {},
     "output_type": "execute_result"
    }
   ],
   "source": [
    "re.findall('-?\\d+', test[0])"
   ]
  },
  {
   "cell_type": "code",
   "execution_count": 10,
   "id": "010835aa-cae1-417a-82af-4a87b12bffa0",
   "metadata": {},
   "outputs": [],
   "source": [
    "xys = [list(map(int, p.findall(line))) for line in test]"
   ]
  },
  {
   "cell_type": "code",
   "execution_count": 11,
   "id": "e613fd5a-02ef-4098-abdc-38cd0d993c37",
   "metadata": {},
   "outputs": [
    {
     "data": {
      "text/plain": [
       "[[2, 18, -2, 15],\n",
       " [9, 16, 10, 16],\n",
       " [13, 2, 15, 3],\n",
       " [12, 14, 10, 16],\n",
       " [10, 20, 10, 16],\n",
       " [14, 17, 10, 16],\n",
       " [8, 7, 2, 10],\n",
       " [2, 0, 2, 10],\n",
       " [0, 11, 2, 10],\n",
       " [20, 14, 25, 17],\n",
       " [17, 20, 21, 22],\n",
       " [16, 7, 15, 3],\n",
       " [14, 3, 15, 3],\n",
       " [20, 1, 15, 3]]"
      ]
     },
     "execution_count": 11,
     "metadata": {},
     "output_type": "execute_result"
    }
   ],
   "source": [
    "xys"
   ]
  },
  {
   "cell_type": "markdown",
   "id": "4023041c-668b-48f3-972b-7c59fcb14835",
   "metadata": {},
   "source": [
    "Convert to complex, since we're only interested in manhattan distance"
   ]
  },
  {
   "cell_type": "code",
   "execution_count": 12,
   "id": "fd6073ad-d08a-427a-b840-42ea2864067d",
   "metadata": {},
   "outputs": [],
   "source": [
    "make_cmplx = lambda sx, sy, bx, by: [complex(sx, sy), complex(bx, by)]"
   ]
  },
  {
   "cell_type": "code",
   "execution_count": 13,
   "id": "cdb2c023-5eb7-4fde-88ab-f33515fcbe45",
   "metadata": {},
   "outputs": [
    {
     "data": {
      "text/plain": [
       "[[(2+18j), (-2+15j)],\n",
       " [(9+16j), (10+16j)],\n",
       " [(13+2j), (15+3j)],\n",
       " [(12+14j), (10+16j)],\n",
       " [(10+20j), (10+16j)],\n",
       " [(14+17j), (10+16j)],\n",
       " [(8+7j), (2+10j)],\n",
       " [(2+0j), (2+10j)],\n",
       " [11j, (2+10j)],\n",
       " [(20+14j), (25+17j)],\n",
       " [(17+20j), (21+22j)],\n",
       " [(16+7j), (15+3j)],\n",
       " [(14+3j), (15+3j)],\n",
       " [(20+1j), (15+3j)]]"
      ]
     },
     "execution_count": 13,
     "metadata": {},
     "output_type": "execute_result"
    }
   ],
   "source": [
    "xys_ij = [make_cmplx(*xy) for xy in xys]\n",
    "xys_ij"
   ]
  },
  {
   "cell_type": "code",
   "execution_count": 14,
   "id": "66ffeae6-b5e8-4751-9f84-752937690e43",
   "metadata": {},
   "outputs": [
    {
     "name": "stdout",
     "output_type": "stream",
     "text": [
      "(2+18j) (-2+15j)\n"
     ]
    }
   ],
   "source": [
    "s, b = xys_ij[0]\n",
    "print(s, b)"
   ]
  },
  {
   "cell_type": "code",
   "execution_count": 15,
   "id": "e4208f22-a701-4792-9e50-9aabe8305ae8",
   "metadata": {},
   "outputs": [
    {
     "data": {
      "text/plain": [
       "(-4-3j)"
      ]
     },
     "execution_count": 15,
     "metadata": {},
     "output_type": "execute_result"
    }
   ],
   "source": [
    "b-s"
   ]
  },
  {
   "cell_type": "code",
   "execution_count": 16,
   "id": "8425b152-82ac-4264-9fa9-81ff0dd643c9",
   "metadata": {},
   "outputs": [],
   "source": [
    "calc_md = lambda s, b: int(abs((b-s).real)+abs((b-s).imag))"
   ]
  },
  {
   "cell_type": "code",
   "execution_count": 17,
   "id": "3ae07ce1-ea65-436b-b366-f2f13b55ec8d",
   "metadata": {},
   "outputs": [
    {
     "data": {
      "text/plain": [
       "7"
      ]
     },
     "execution_count": 17,
     "metadata": {},
     "output_type": "execute_result"
    }
   ],
   "source": [
    "calc_md(*xys_ij[0])"
   ]
  },
  {
   "cell_type": "code",
   "execution_count": 18,
   "id": "c9661687-e7cb-409f-a689-a550654e2dee",
   "metadata": {},
   "outputs": [
    {
     "data": {
      "text/plain": [
       "[7, 1, 3, 4, 4, 5, 9, 10, 3, 8, 6, 5, 1, 7]"
      ]
     },
     "execution_count": 18,
     "metadata": {},
     "output_type": "execute_result"
    }
   ],
   "source": [
    "mds = [calc_md(*sb) for sb in xys_ij]\n",
    "mds"
   ]
  },
  {
   "cell_type": "code",
   "execution_count": 19,
   "id": "cca94e17-f50f-4788-a631-a6e60e636c3c",
   "metadata": {},
   "outputs": [
    {
     "data": {
      "text/plain": [
       "[([(2+18j), (-2+15j)], 7),\n",
       " ([(9+16j), (10+16j)], 1),\n",
       " ([(13+2j), (15+3j)], 3),\n",
       " ([(12+14j), (10+16j)], 4),\n",
       " ([(10+20j), (10+16j)], 4),\n",
       " ([(14+17j), (10+16j)], 5),\n",
       " ([(8+7j), (2+10j)], 9),\n",
       " ([(2+0j), (2+10j)], 10),\n",
       " ([11j, (2+10j)], 3),\n",
       " ([(20+14j), (25+17j)], 8),\n",
       " ([(17+20j), (21+22j)], 6),\n",
       " ([(16+7j), (15+3j)], 5),\n",
       " ([(14+3j), (15+3j)], 1),\n",
       " ([(20+1j), (15+3j)], 7)]"
      ]
     },
     "execution_count": 19,
     "metadata": {},
     "output_type": "execute_result"
    }
   ],
   "source": [
    "list(zip(xys_ij, mds))"
   ]
  },
  {
   "cell_type": "markdown",
   "id": "04eab86b-65f7-4205-bf0c-73cbb4ea1dec",
   "metadata": {},
   "source": [
    "Given a point and the manhattan distance, `d_m`, find all points within this radius\n",
    "\n",
    "Wrong approach\n",
    "\n",
    "Given a sensor, its reach, and the target row, find the extent of the sensor's detection cone on that row\n",
    "\n",
    "E.g. \n",
    "\n",
    "- sensor at (2, 2)\n",
    "- closest beacon (6, 5)\n",
    "- extent of reach on row 4?\n",
    "\n",
    "1. Find d_m = 6 - 2 + 5 - 2 = 7\n",
    "1. On row = sx, reach ranges from 2 - 7 = -5 to 2 + 7 = 9\n",
    "1. on row = 4, `d_new = d - abs(ty - sy) = 7 - abs(4 - 2) = 5`\n",
    "1. reach extends -5/+5 from sx: 2 - 5 = -3, 2 + 5 = 7\n",
    "1. Thus all nodes from (-3, 4) to (7, 4) cannot contain a beacon (`True`)"
   ]
  },
  {
   "cell_type": "code",
   "execution_count": 32,
   "id": "037a6bde-600c-4c3d-ae63-4cfff5abc47e",
   "metadata": {},
   "outputs": [],
   "source": [
    "def calc_reach(s: complex, reach: int, row: int):\n",
    "    r_new = reach - abs(row - s.imag)\n",
    "    if r_new > 0:\n",
    "        left = (s.real - r_new)\n",
    "        return left, r_new*2\n",
    "    else:\n",
    "        return None"
   ]
  },
  {
   "cell_type": "code",
   "execution_count": 37,
   "id": "367cfa81-4074-4ae9-91c9-53cd7f0ecabb",
   "metadata": {},
   "outputs": [
    {
     "data": {
      "text/plain": [
       "[(2.0, 12.0), (-2.0, 4.0), (16.0, 8.0), (14.0, 4.0)]"
      ]
     },
     "execution_count": 37,
     "metadata": {},
     "output_type": "execute_result"
    }
   ],
   "source": [
    "row = 10\n",
    "reaches = [d for xy, reach in zip(xys_ij, mds) if (d := calc_reach(xy[0], reach, row))]\n",
    "reaches"
   ]
  },
  {
   "cell_type": "markdown",
   "id": "74476c20-b42b-4d90-875f-efffc88984a6",
   "metadata": {},
   "source": [
    "So we've got these ranges:\n",
    "\n",
    "- 2 + 12 to 14\n",
    "- -2 + 4 to 2\n",
    "- 16 + 8 to 24\n",
    "- 14 + 4 to 18\n",
    "\n",
    "From these, we can determine everything from -2 to 24 cannot contain a beacon: 27 nodes; however one of those nodes do contain a beacon, and so only the remaining 26 nodes cannot\n",
    "\n",
    "Two problems:\n",
    "\n",
    "- how to discern overlaps?\n",
    "- how to discern whether beacons are located in any one of the nodes?\n",
    "\n",
    "Overlaps:\n",
    "\n",
    "1. Sort left edge\n",
    "1. Consider next left edge\n",
    "  - If left_new <= right_prev:\n",
    "    - overlap = right_prev - left_current + 1 (if equal, there is overlap of 1 node)\n",
    "    - right_current = right_prev + reach_current - overlap\n",
    "    - e.g. A: -2 + 4 to 2; B: 2 + 12 to 14\n",
    "    - 2 <= 2\n",
    "    - overlap = 2 - 2 + 1\n",
    "    - right edge = right_current = 14; left edge = left_prev = -2\n",
    "  - else, if left_new > right_prev:\n",
    "    - update total = right_prev - left_prev + 1 (inclusive)\n",
    "    - Check for beacons that are on the same row (y=2000000)\n",
    "    - for each beacon on the specified row:\n",
    "      - check if `left_prev <= x_beacon <= right_prev`\n",
    "      - if yes, pop beacon from pool, increment update\n",
    "      - else, continue to next beacon\n",
    "    - update left_prev = left_new\n",
    "    - update right_prev = left_prev + reach_new\n"
   ]
  },
  {
   "cell_type": "code",
   "execution_count": 38,
   "id": "405dacdd-0497-45fa-a5f0-5aebed33d6a3",
   "metadata": {},
   "outputs": [],
   "source": [
    "reach_sorted = sorted(reaches, key=lambda x: x[0])"
   ]
  },
  {
   "cell_type": "code",
   "execution_count": 39,
   "id": "bde725fa-469e-425f-bf51-fd45adc3b9eb",
   "metadata": {},
   "outputs": [
    {
     "data": {
      "text/plain": [
       "[(-2.0, 4.0), (2.0, 12.0), (14.0, 4.0), (16.0, 8.0)]"
      ]
     },
     "execution_count": 39,
     "metadata": {},
     "output_type": "execute_result"
    }
   ],
   "source": [
    "reach_sorted"
   ]
  },
  {
   "cell_type": "code",
   "execution_count": 40,
   "id": "d45a5983-56d7-420b-967b-ae44456197bd",
   "metadata": {},
   "outputs": [
    {
     "name": "stdout",
     "output_type": "stream",
     "text": [
      "edge: -2.0, reach: 4.0\n",
      "edge: 2.0, reach: 12.0\n",
      "edge: 14.0, reach: 4.0\n",
      "edge: 16.0, reach: 8.0\n"
     ]
    }
   ],
   "source": [
    "for (edge, reach) in reach_sorted:\n",
    "    print(f\"edge: {edge}, reach: {reach}\")"
   ]
  },
  {
   "cell_type": "code",
   "execution_count": 31,
   "id": "b41f4144-2398-4a26-b18e-37fa97535566",
   "metadata": {},
   "outputs": [],
   "source": [
    "b_search = [int(b[1].real) for b in xys_ij if b[1].imag == 10]\n",
    "b_search = list(set(b_search))"
   ]
  },
  {
   "cell_type": "code",
   "execution_count": 71,
   "id": "1038c1a5-1e11-4d9f-ba9c-14f932a25a24",
   "metadata": {},
   "outputs": [],
   "source": [
    "def beacon_elim(target: int, reach: list, sb_pairs: list = None):\n",
    "    \"\"\"\n",
    "    Given a sorted list of left edges and their reach, find\n",
    "    how many nodes cannot contain a beacon\n",
    "    \n",
    "    Parameters\n",
    "    --------\n",
    "    target: int\n",
    "        Beacon elimination will be conducted for this row\n",
    "    reach: list(tuple)\n",
    "        each tuple contains the left edge and the reach of the sensor detection\n",
    "        cone\n",
    "    sb_pairs: list\n",
    "        list of tuples containing location of sensors and beacons\n",
    "        in complex coordinates\n",
    "    \n",
    "    Returns\n",
    "    -------\n",
    "    num_empty: int\n",
    "        number of nodes on the target row that cannot contain beacon\n",
    "    \"\"\"\n",
    "    # sort by left edge\n",
    "    reach_sorted = sorted(reaches, key=lambda x: x[0])\n",
    "    b_search = [int(b[1].real) for b in sb_pairs if b[1].imag == target]\n",
    "    b_search = list(set(b_search))\n",
    "    \n",
    "    \n",
    "    left_prev, reach_prev = reach_sorted[0]\n",
    "    right_edge = left_prev + reach_prev\n",
    "    totals = [reach_prev]\n",
    "    print(f\"left: {left_prev}, reach: {reach_prev}, right: {right_edge}\")\n",
    "    # reach_sorted.remove((left_prev, reach_prev))\n",
    "    for (left_edge, reach_new) in reach_sorted[1:]:\n",
    "        print(f\"left: {left_edge}, reach: {reach_new}, right: {right_edge}\")\n",
    "        if left_edge <= right_edge:\n",
    "            # update right edge only\n",
    "            right_edge = left_edge + reach_new\n",
    "            # update last subtotal accounting for overlap\n",
    "            totals[-1] = right_edge - left_prev\n",
    "            print(f\"overlap - new right: {right_edge}\")\n",
    "            \n",
    "        else:\n",
    "            # new segment\n",
    "            totals.append(reach_new)\n",
    "            print(f\"new segment: {reach_new} added to total\")\n",
    "            # update the edges\n",
    "            left_prev = left_edge\n",
    "            right_edge = left_prev + reach_new\n",
    "        \n",
    "        \n",
    "        # check for beacons\n",
    "        for b in b_search:\n",
    "            if left_edge <= b and b <= right_edge:\n",
    "                totals[-1] -= 1\n",
    "                print(f\"beacon found within range at node {b}\")\n",
    "            \n",
    "                    \n",
    "    return sum(totals)\n",
    "        "
   ]
  },
  {
   "cell_type": "code",
   "execution_count": 72,
   "id": "1ad86a5a-34b8-4586-9814-f773db506931",
   "metadata": {},
   "outputs": [
    {
     "name": "stdout",
     "output_type": "stream",
     "text": [
      "left: -2.0, reach: 4.0, right: 2.0\n",
      "left: 2.0, reach: 12.0, right: 2.0\n",
      "overlap - new right: 14.0\n",
      "beacon found within range at node 2\n",
      "left: 14.0, reach: 4.0, right: 14.0\n",
      "overlap - new right: 18.0\n",
      "left: 16.0, reach: 8.0, right: 18.0\n",
      "overlap - new right: 24.0\n"
     ]
    },
    {
     "data": {
      "text/plain": [
       "26.0"
      ]
     },
     "execution_count": 72,
     "metadata": {},
     "output_type": "execute_result"
    }
   ],
   "source": [
    "beacon_elim(10, reaches, xys_ij)"
   ]
  },
  {
   "cell_type": "code",
   "execution_count": 57,
   "id": "46858267-3aed-4cf8-a5c3-cc24442692c7",
   "metadata": {},
   "outputs": [
    {
     "data": {
      "text/plain": [
       "(1, 2)"
      ]
     },
     "execution_count": 57,
     "metadata": {},
     "output_type": "execute_result"
    }
   ],
   "source": [
    "foo = [(1,2),(2,3),(3,4)]\n",
    "list(reversed(foo)).pop()"
   ]
  },
  {
   "cell_type": "code",
   "execution_count": 1,
   "id": "85d5402d-c4c4-40ea-999f-cf8844de0fab",
   "metadata": {},
   "outputs": [
    {
     "data": {
      "text/plain": [
       "['__new__',\n",
       " '__repr__',\n",
       " '__hash__',\n",
       " '__getattribute__',\n",
       " '__lt__',\n",
       " '__le__',\n",
       " '__eq__',\n",
       " '__ne__',\n",
       " '__gt__',\n",
       " '__ge__',\n",
       " '__iter__',\n",
       " '__init__',\n",
       " '__sub__',\n",
       " '__rsub__',\n",
       " '__and__',\n",
       " '__rand__',\n",
       " '__xor__',\n",
       " '__rxor__',\n",
       " '__or__',\n",
       " '__ror__',\n",
       " '__isub__',\n",
       " '__iand__',\n",
       " '__ixor__',\n",
       " '__ior__',\n",
       " '__len__',\n",
       " '__contains__',\n",
       " 'add',\n",
       " 'clear',\n",
       " 'copy',\n",
       " 'discard',\n",
       " 'difference',\n",
       " 'difference_update',\n",
       " 'intersection',\n",
       " 'intersection_update',\n",
       " 'isdisjoint',\n",
       " 'issubset',\n",
       " 'issuperset',\n",
       " 'pop',\n",
       " '__reduce__',\n",
       " 'remove',\n",
       " '__sizeof__',\n",
       " 'symmetric_difference',\n",
       " 'symmetric_difference_update',\n",
       " 'union',\n",
       " 'update',\n",
       " '__class_getitem__',\n",
       " '__doc__',\n",
       " '__str__',\n",
       " '__setattr__',\n",
       " '__delattr__',\n",
       " '__reduce_ex__',\n",
       " '__subclasshook__',\n",
       " '__init_subclass__',\n",
       " '__format__',\n",
       " '__dir__',\n",
       " '__class__']"
      ]
     },
     "execution_count": 1,
     "metadata": {},
     "output_type": "execute_result"
    }
   ],
   "source": [
    "baa = set([1,2,3,3])\n",
    "baa.__dir__()"
   ]
  },
  {
   "cell_type": "code",
   "execution_count": 3,
   "id": "45c393e1-c7eb-425e-9357-8d24e31b501b",
   "metadata": {},
   "outputs": [],
   "source": [
    "for i in baa.copy():\n",
    "    if i % 2 == 0:\n",
    "        baa.discard(i)"
   ]
  },
  {
   "cell_type": "code",
   "execution_count": 5,
   "id": "82357013-8717-47ce-b4fe-fd965a17a536",
   "metadata": {},
   "outputs": [
    {
     "data": {
      "text/plain": [
       "{1, 2, 3}"
      ]
     },
     "execution_count": 5,
     "metadata": {},
     "output_type": "execute_result"
    }
   ],
   "source": [
    "baa | {1,2}"
   ]
  },
  {
   "cell_type": "code",
   "execution_count": 7,
   "id": "2e3f0c06-d93b-42d1-ba77-6f5d54f4f104",
   "metadata": {},
   "outputs": [
    {
     "data": {
      "text/plain": [
       "[0, 1, 4, 4]"
      ]
     },
     "execution_count": 7,
     "metadata": {},
     "output_type": "execute_result"
    }
   ],
   "source": [
    "foo = list(range(4))\n",
    "for i, val in enumerate(foo):\n",
    "    if val > 1:\n",
    "        foo[i] = 4\n",
    "foo"
   ]
  },
  {
   "cell_type": "code",
   "execution_count": null,
   "id": "b677cca4-7b7d-40b5-8b44-d0611f89c5a8",
   "metadata": {},
   "outputs": [],
   "source": []
  }
 ],
 "metadata": {
  "kernelspec": {
   "display_name": "Python 3 (ipykernel)",
   "language": "python",
   "name": "python3"
  },
  "language_info": {
   "codemirror_mode": {
    "name": "ipython",
    "version": 3
   },
   "file_extension": ".py",
   "mimetype": "text/x-python",
   "name": "python",
   "nbconvert_exporter": "python",
   "pygments_lexer": "ipython3",
   "version": "3.10.6"
  }
 },
 "nbformat": 4,
 "nbformat_minor": 5
}
