{
 "cells": [
  {
   "cell_type": "markdown",
   "id": "aafff945-96bd-4350-aefe-395efc1a364e",
   "metadata": {},
   "source": [
    "# day 15 part two\n",
    "\n",
    "Finding the unique node that could contain a beacon"
   ]
  },
  {
   "cell_type": "code",
   "execution_count": 2,
   "id": "dc2c5b63-e217-4f4c-83a3-7f14e3c2a316",
   "metadata": {},
   "outputs": [],
   "source": [
    "import numpy as np\n",
    "import re\n",
    "\n",
    "def load_input(fp):\n",
    "    with open(fp) as f_in:\n",
    "        for line in f_in.read().splitlines():\n",
    "            yield line\n",
    "\n",
    "def make_cmplx(line: str, pattern: re.compile) -> tuple:\n",
    "    \"\"\"Parse the input line containing two pairs of (x, y) coords\n",
    "    into pair of complex numbers representing the sensor and beacon coordinates\n",
    "    \"\"\"\n",
    "    sx, sy, bx, by = list(map(int, pattern.findall(line)))\n",
    "    return complex(sx, sy), complex(bx, by)\n",
    "\n",
    "def calc_man_dist(s: complex, b: complex) -> int:\n",
    "    \"\"\"Returns manhattan distance given two complex numbers\n",
    "    that represent their cartesian coordinates\n",
    "    \"\"\"\n",
    "    return int(abs((b - s).real) + abs((b - s).imag))"
   ]
  },
  {
   "cell_type": "code",
   "execution_count": 3,
   "id": "7e082793-c647-4205-a9f2-54951c09ad85",
   "metadata": {},
   "outputs": [],
   "source": [
    "test_in = \"test.txt\"\n",
    "run_in = \"input.txt\""
   ]
  },
  {
   "cell_type": "code",
   "execution_count": 84,
   "id": "82c40e19-a8d0-4916-b091-fa7ba4a98033",
   "metadata": {},
   "outputs": [],
   "source": [
    "pattern = re.compile(\"-?\\d+\")\n",
    "test_pairs = np.array([make_cmplx(line, pattern) for line in load_input(test_in)])\n",
    "sb_pairs = np.array([make_cmplx(line, pattern) for line in load_input(run_in)])"
   ]
  },
  {
   "cell_type": "code",
   "execution_count": 19,
   "id": "4cc32a69-6fb5-4d86-9016-550424501a67",
   "metadata": {},
   "outputs": [
    {
     "data": {
      "text/plain": [
       "array([[ 2.+18.j, -2.+15.j],\n",
       "       [ 9.+16.j, 10.+16.j],\n",
       "       [13. +2.j, 15. +3.j],\n",
       "       [12.+14.j, 10.+16.j],\n",
       "       [10.+20.j, 10.+16.j],\n",
       "       [14.+17.j, 10.+16.j],\n",
       "       [ 8. +7.j,  2.+10.j],\n",
       "       [ 2. +0.j,  2.+10.j],\n",
       "       [ 0.+11.j,  2.+10.j],\n",
       "       [20.+14.j, 25.+17.j],\n",
       "       [17.+20.j, 21.+22.j],\n",
       "       [16. +7.j, 15. +3.j],\n",
       "       [14. +3.j, 15. +3.j],\n",
       "       [20. +1.j, 15. +3.j]])"
      ]
     },
     "execution_count": 19,
     "metadata": {},
     "output_type": "execute_result"
    }
   ],
   "source": [
    "test_pairs"
   ]
  },
  {
   "cell_type": "code",
   "execution_count": 85,
   "id": "9b6f07de-07be-4ac5-807c-dab45fac9771",
   "metadata": {},
   "outputs": [
    {
     "data": {
      "text/plain": [
       "array([ 7,  1,  3,  4,  4,  5,  9, 10,  3,  8,  6,  5,  1,  7])"
      ]
     },
     "execution_count": 85,
     "metadata": {},
     "output_type": "execute_result"
    }
   ],
   "source": [
    "dists = np.array([calc_man_dist(*sb) for sb in sb_pairs])\n",
    "test_dists = np.array([calc_man_dist(*sb) for sb in test_pairs])\n",
    "test_dists"
   ]
  },
  {
   "cell_type": "markdown",
   "id": "a2881f0d-d8b3-4afb-8abe-51037d7114c3",
   "metadata": {},
   "source": [
    "## Find all points outside each sensor's detection range\n",
    "\n",
    "Given sensor and the range, generate the points outside the detection zone"
   ]
  },
  {
   "cell_type": "code",
   "execution_count": 76,
   "id": "e8a23372-1cc6-4605-98f8-9015a04aca4c",
   "metadata": {},
   "outputs": [],
   "source": [
    "def find_perimeter(sensor: complex, reach: int) -> np.array:\n",
    "    \"\"\"\n",
    "    Given sensor and the range, generate the perimeter points \n",
    "    outside the detection zone\n",
    "    This method really lends itself well to a 45 deg rotation...\n",
    "    find two at a time;\n",
    "    1. origin a: left vertex, origin b: bottom vertex\n",
    "       progress at 45 deg: x++, y--\n",
    "       stop when pos.x == sensor.x\n",
    "    2. c: left vertex, d: top\n",
    "       progress at -45 deg: x++, y++\n",
    "       stop when pos.x == sensor.x\n",
    "    \"\"\"\n",
    "    \n",
    "    left = sensor - reach - 1\n",
    "    bot = sensor + (reach + 1) * 1j\n",
    "    top = sensor - (reach + 1) * 1j\n",
    "    right = sensor + reach + 1\n",
    "    # initialize at vertex\n",
    "    pos_l = left\n",
    "    pos_r = right\n",
    "    pos_b = bot\n",
    "    pos_t = top\n",
    "    \n",
    "    # define dir\n",
    "    diag_upright = 1 - 1j\n",
    "    diag_downright = 1 + 1j\n",
    "    \n",
    "    while pos_l.real < sensor.real:\n",
    "        pos_l += 1 - 1j\n",
    "        pos_t += 1 + 1j\n",
    "        pos_r += -1 + 1j\n",
    "        pos_b += -1 - 1j\n",
    "        \n",
    "        for pos in [pos_l, pos_t, pos_r, pos_b]:\n",
    "            yield pos\n",
    "    # yield left, bot, top, right"
   ]
  },
  {
   "cell_type": "code",
   "execution_count": 72,
   "id": "0fa22f76-20d6-4c2e-b258-da351741142b",
   "metadata": {},
   "outputs": [],
   "source": [
    "foo = 3+4j"
   ]
  },
  {
   "cell_type": "code",
   "execution_count": 80,
   "id": "e6e70bc4-9c90-4205-9b05-0453874bc5dc",
   "metadata": {},
   "outputs": [
    {
     "name": "stdout",
     "output_type": "stream",
     "text": [
      "8\n"
     ]
    }
   ],
   "source": [
    "gen_nodes = find_perimeter(foo, 1)\n",
    "# for xy in gen_nodes:\n",
    "#     print(xy)\n",
    "print(len(list(gen_nodes)))"
   ]
  },
  {
   "cell_type": "code",
   "execution_count": 81,
   "id": "4e6148c0-cd9d-4061-b071-721170b1a8a9",
   "metadata": {},
   "outputs": [
    {
     "name": "stdout",
     "output_type": "stream",
     "text": [
      "radius: 1\t perimeter: 8\n",
      "radius: 2\t perimeter: 12\n",
      "radius: 3\t perimeter: 16\n",
      "radius: 4\t perimeter: 20\n"
     ]
    }
   ],
   "source": [
    "for i in range(1, 5):\n",
    "    nodes = list(find_perimeter(foo, i))\n",
    "    print(f\"radius: {i}\\t perimeter: {len(nodes)}\")"
   ]
  },
  {
   "cell_type": "code",
   "execution_count": 86,
   "id": "eaddbf2f-892a-483f-a6e0-2a628ab15ec1",
   "metadata": {},
   "outputs": [
    {
     "name": "stdout",
     "output_type": "stream",
     "text": [
      "sensor: (2300471+2016823j), search volume: 4770492\n",
      "sensor: (1315114+37295j), search volume: 1450248\n",
      "sensor: (1039523+3061589j), search volume: 4717536\n",
      "sensor: (214540+3768792j), search volume: 2806532\n",
      "sensor: (1641345+3524291j), search volume: 1026920\n",
      "sensor: (1016825+1450262j), search volume: 3283332\n",
      "sensor: (2768110+3703050j), search volume: 2586580\n",
      "sensor: (2213658+3522463j), search volume: 3323484\n",
      "sensor: (3842967+3381135j), search volume: 178428\n",
      "sensor: (3952516+2683159j), search volume: 3055672\n",
      "sensor: (172892+369117j), search volume: 5886180\n",
      "sensor: (3999720+3498306j), search volume: 947740\n",
      "sensor: (1596187+307084j), search volume: 1355016\n",
      "sensor: (3863253+3406760j), search volume: 157072\n",
      "sensor: (3927553+3450758j), search volume: 468880\n",
      "sensor: (2774120+3228484j), search volume: 1970756\n",
      "sensor: (3897140+3418751j), search volume: 244656\n",
      "sensor: (1880329+2843697j), search volume: 3311180\n",
      "sensor: (33790+3243415j), search volume: 4185040\n",
      "sensor: (438583+2647769j), search volume: 3819672\n",
      "sensor: (1540347+3177380j), search volume: 2251076\n",
      "sensor: (3120086+3997791j), search volume: 108312\n",
      "sensor: (3428967+3105227j), search volume: 2448140\n",
      "sensor: (2898335+1037911j), search volume: 7943660\n",
      "sensor: (3456260+3578627j), search volume: 2158376\n",
      "sensor: (1859971+3999725j), search volume: 2316808\n",
      "sensor: (3147730+3999322j), search volume: 116996\n",
      "sensor: (3920847+71575j), search volume: 1687272\n",
      "sensor: (956723+3999438j), search volume: 3612164\n",
      "sensor: (1193760+3758205j), search volume: 1699084\n",
      "sensor: (3999446+1929369j), search volume: 6258552\n",
      "sensor: (1434466+2254087j), search volume: 3771292\n",
      "sensor: (200365+1856636j), search volume: 2754924\n",
      "sensor: (1859710+31159j), search volume: 802784\n",
      "sensor: (3712613+3930105j), search volume: 2532548\n",
      "sensor: (1660185+2900j), search volume: 207544\n",
      "sensor: (1497065+93501j), search volume: 897172\n",
      "sensor: (3832823+3346266j), search volume: 328016\n",
      "328016\n"
     ]
    }
   ],
   "source": [
    "total = 0\n",
    "for (s, b), d in zip(sb_pairs, dists):\n",
    "    nodes = list(find_perimeter(s, d))\n",
    "    num = len(nodes)\n",
    "    total += num\n",
    "    print(f\"sensor: {s}, search volume: {num}\")\n",
    "print(num)"
   ]
  },
  {
   "cell_type": "code",
   "execution_count": 87,
   "id": "cf8f1100-d133-415e-bbb8-ea280d7a064b",
   "metadata": {},
   "outputs": [
    {
     "name": "stdout",
     "output_type": "stream",
     "text": [
      "91440136\n"
     ]
    }
   ],
   "source": [
    "print(total)"
   ]
  },
  {
   "cell_type": "code",
   "execution_count": 88,
   "id": "5697465b-ba05-465b-b9db-7db550e55459",
   "metadata": {},
   "outputs": [],
   "source": [
    "from itertools import product"
   ]
  },
  {
   "cell_type": "code",
   "execution_count": 91,
   "id": "21f828f6-5200-4c13-beb7-f0e5a68b820d",
   "metadata": {},
   "outputs": [
    {
     "name": "stdout",
     "output_type": "stream",
     "text": [
      "(1, 'a')\n",
      "(1, 'b')\n",
      "(1, 'c')\n",
      "(2, 'a')\n",
      "(2, 'b')\n",
      "(2, 'c')\n",
      "(3, 'a')\n",
      "(3, 'b')\n",
      "(3, 'c')\n"
     ]
    }
   ],
   "source": [
    "foo = [1,2,3]; bar = ['a','b','c']\n",
    "for i in product(foo, bar):\n",
    "    print(i)"
   ]
  },
  {
   "cell_type": "code",
   "execution_count": null,
   "id": "7375d2f2-437c-44c9-83e0-d00ac71debb7",
   "metadata": {},
   "outputs": [],
   "source": []
  }
 ],
 "metadata": {
  "kernelspec": {
   "display_name": "Python 3 (ipykernel)",
   "language": "python",
   "name": "python3"
  },
  "language_info": {
   "codemirror_mode": {
    "name": "ipython",
    "version": 3
   },
   "file_extension": ".py",
   "mimetype": "text/x-python",
   "name": "python",
   "nbconvert_exporter": "python",
   "pygments_lexer": "ipython3",
   "version": "3.10.6"
  }
 },
 "nbformat": 4,
 "nbformat_minor": 5
}
