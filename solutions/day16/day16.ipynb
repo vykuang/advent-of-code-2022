{
 "cells": [
  {
   "cell_type": "markdown",
   "id": "3625eb83-a8d0-4b96-8f43-2757335d9ee3",
   "metadata": {},
   "source": [
    "# AoC 2022 Day 16 - Volcanos\n",
    "\n",
    "## Part one\n",
    "\n",
    "Given a network of valves and tunnels, and a time constraint, what is the max pressure that can be released?\n",
    "\n",
    "- moving through one tunnel takes 1 minute\n",
    "- opening takes 1 minute\n",
    "- 30 minutes total"
   ]
  },
  {
   "cell_type": "code",
   "execution_count": 1,
   "id": "114a7fad-c972-4954-b8b3-b69bfbecdd30",
   "metadata": {},
   "outputs": [],
   "source": [
    "def load_input(fp):\n",
    "    with open(fp) as f_in:\n",
    "        for line in f_in.read().splitlines():\n",
    "            yield line"
   ]
  },
  {
   "cell_type": "code",
   "execution_count": 2,
   "id": "ed0fcb28-0d49-4134-af01-05ab00d140a0",
   "metadata": {},
   "outputs": [],
   "source": [
    "# max for test = 1651\n",
    "test = [line for line in load_input(\"test.txt\")]"
   ]
  },
  {
   "cell_type": "code",
   "execution_count": 3,
   "id": "abce8781-28b4-469f-aa77-ad614ea51710",
   "metadata": {},
   "outputs": [
    {
     "data": {
      "text/plain": [
       "['Valve AA has flow rate=0; tunnels lead to valves DD, II, BB',\n",
       " 'Valve BB has flow rate=13; tunnels lead to valves CC, AA',\n",
       " 'Valve CC has flow rate=2; tunnels lead to valves DD, BB']"
      ]
     },
     "execution_count": 3,
     "metadata": {},
     "output_type": "execute_result"
    }
   ],
   "source": [
    "test[:3]"
   ]
  },
  {
   "cell_type": "markdown",
   "id": "2eaed1b0-bead-480b-94f5-f777d21dd0d6",
   "metadata": {},
   "source": [
    "Build a graph from the inputs.\n",
    "\n",
    "- each node has at least one children\n",
    "- each node has a `release` value\n",
    "- graph may be cyclic; one's children node may eventually lead back to the original node"
   ]
  },
  {
   "cell_type": "code",
   "execution_count": 43,
   "id": "30641657-a0a5-42dc-b817-85fffba92bbd",
   "metadata": {},
   "outputs": [],
   "source": [
    "class Valve:\n",
    "    def __init__(self, name='', rate=0, neighbors=None):\n",
    "        \"\"\"To use in defaultdict, must set defaults\"\"\"\n",
    "        self.rate = rate\n",
    "        if neighbors:\n",
    "            self.neighbors = set(neighbors)\n",
    "        else:\n",
    "            self.neighbors = None\n",
    "            \n",
    "        \n",
    "    def __repr__(self):\n",
    "        return f\"rate: {self.rate}\\tneighbors: {self.neighbors}\"\n",
    "            "
   ]
  },
  {
   "cell_type": "code",
   "execution_count": 31,
   "id": "2e07b342-a789-499e-a6d6-24a05d812676",
   "metadata": {},
   "outputs": [
    {
     "name": "stdout",
     "output_type": "stream",
     "text": [
      "AA 3 {'II', 'BB', 'DD'}\n"
     ]
    }
   ],
   "source": [
    "foo = Valve('AA', 3, ['DD', 'II', 'BB'])\n",
    "print(foo.name, foo.rate, foo.neighbors)"
   ]
  },
  {
   "cell_type": "code",
   "execution_count": 11,
   "id": "284f2a04-c239-47ca-b334-b161ff2e6c5d",
   "metadata": {},
   "outputs": [
    {
     "data": {
      "text/plain": [
       "['Valve',\n",
       " 'AA',\n",
       " 'has',\n",
       " 'flow',\n",
       " 'rate=0;',\n",
       " 'tunnels',\n",
       " 'lead',\n",
       " 'to',\n",
       " 'valves',\n",
       " 'DD,',\n",
       " 'II,',\n",
       " 'BB']"
      ]
     },
     "execution_count": 11,
     "metadata": {},
     "output_type": "execute_result"
    }
   ],
   "source": [
    "line = test[0]\n",
    "spl = line.split(\" \")\n",
    "spl"
   ]
  },
  {
   "cell_type": "code",
   "execution_count": 12,
   "id": "68a234bd-48fb-4f6b-9c62-7cc7eb951781",
   "metadata": {},
   "outputs": [],
   "source": [
    "import re"
   ]
  },
  {
   "cell_type": "code",
   "execution_count": 19,
   "id": "1b5b51b2-2181-4b07-aff9-8859f635e983",
   "metadata": {},
   "outputs": [
    {
     "data": {
      "text/plain": [
       "['DD', 'II', 'BB']"
      ]
     },
     "execution_count": 19,
     "metadata": {},
     "output_type": "execute_result"
    }
   ],
   "source": [
    "c = re.compile('Valve ([A-Z]{2}).*rate=(\\d+).*valves (.*)')\n",
    "child_c = re.compile('[A-Z]{2}')\n",
    "res = c.findall(line)\n",
    "child_c.findall(res[0][-1])"
   ]
  },
  {
   "cell_type": "code",
   "execution_count": 21,
   "id": "2b44b854-17f6-4cd8-b471-bbb5de0c8da7",
   "metadata": {},
   "outputs": [
    {
     "name": "stdout",
     "output_type": "stream",
     "text": [
      "['AA', 'DD', 'II', 'BB'] ['0']\n"
     ]
    }
   ],
   "source": [
    "v = re.compile('[A-Z]{2}')\n",
    "r = re.compile('rate=(\\d+)')\n",
    "v_m = v.findall(line)\n",
    "r_m = r.findall(line)\n",
    "print(v_m, r_m)"
   ]
  },
  {
   "cell_type": "code",
   "execution_count": 22,
   "id": "8de24a6d-8e20-41da-bd17-6927af151077",
   "metadata": {},
   "outputs": [],
   "source": [
    "def parse_valve_tunnel(line: str) -> list:\n",
    "    \"\"\"Parse input to return \n",
    "    - valve name: str\n",
    "    - rate: int\n",
    "    - children: list[str]\n",
    "    \"\"\"\n",
    "    v = re.compile('[A-Z]{2}')\n",
    "    r = re.compile('rate=(\\d+)')\n",
    "    v_m = v.findall(line)\n",
    "    r_m = r.findall(line)\n",
    "    return v_m[0], int(r_m[0]), v_m[1:]\n",
    "    "
   ]
  },
  {
   "cell_type": "code",
   "execution_count": 23,
   "id": "b44f0001-1121-442e-9dcd-2541d461ed4e",
   "metadata": {},
   "outputs": [
    {
     "data": {
      "text/plain": [
       "[('AA', 0, ['DD', 'II', 'BB']),\n",
       " ('BB', 13, ['CC', 'AA']),\n",
       " ('CC', 2, ['DD', 'BB'])]"
      ]
     },
     "execution_count": 23,
     "metadata": {},
     "output_type": "execute_result"
    }
   ],
   "source": [
    "parsed = [parse_valve_tunnel(line) for line in test]\n",
    "parsed[:3]"
   ]
  },
  {
   "cell_type": "code",
   "execution_count": 32,
   "id": "4b686114-c7db-46bc-b8ed-1f8affa0dc05",
   "metadata": {},
   "outputs": [
    {
     "name": "stdout",
     "output_type": "stream",
     "text": [
      "[Valve: AA\trate: 0\tleads to: {'II', 'BB', 'DD'}, Valve: BB\trate: 13\tleads to: {'AA', 'CC'}, Valve: CC\trate: 2\tleads to: {'BB', 'DD'}]\n"
     ]
    }
   ],
   "source": [
    "nodes = [Valve(*parsed_line) for parsed_line in parsed]\n",
    "print(nodes[:3])"
   ]
  },
  {
   "cell_type": "code",
   "execution_count": 34,
   "id": "dee4bd27-5b8b-470a-aaf0-59b67d41d20a",
   "metadata": {},
   "outputs": [
    {
     "data": {
      "text/plain": [
       "{2}"
      ]
     },
     "execution_count": 34,
     "metadata": {},
     "output_type": "execute_result"
    }
   ],
   "source": [
    "foo = set()\n",
    "foo.update([2])\n",
    "foo"
   ]
  },
  {
   "cell_type": "markdown",
   "id": "79e6b85c-2440-4d75-8000-0743499277c8",
   "metadata": {},
   "source": [
    "`defaultdict(list)` is better.\n",
    "\n",
    "- `graph['AA'] = [neighbors]`\n",
    "- `rate['AA'] = rate_AA`\n",
    "\n",
    "To do so with a class...\n",
    "\n",
    "```py\n",
    "graph['AA'].neighbors = [neighbors]\n",
    "graph['AA'].rate = rate_AA\n",
    "```\n",
    "\n",
    "perhaps a `defaultdict(node)`."
   ]
  },
  {
   "cell_type": "code",
   "execution_count": 35,
   "id": "8bd2e3a3-0dac-4120-b3ab-f73c6b101e26",
   "metadata": {},
   "outputs": [],
   "source": [
    "from collections import defaultdict\n",
    "\n",
    "tunnels = defaultdict(Valve)"
   ]
  },
  {
   "cell_type": "code",
   "execution_count": 36,
   "id": "97c357d9-ba0a-410b-b622-f5ec2d1fd50c",
   "metadata": {},
   "outputs": [],
   "source": [
    "for line in parsed:\n",
    "    tunnels[line[0]] = Valve(*line)"
   ]
  },
  {
   "cell_type": "code",
   "execution_count": 44,
   "id": "2e917941-5e7c-4e6a-9997-732cbb888099",
   "metadata": {},
   "outputs": [],
   "source": [
    "faa = defaultdict(Valve)\n",
    "for (name, rate, neighs) in parsed:\n",
    "    faa[name].rate = rate\n",
    "    faa[name].neighbors = neighs"
   ]
  },
  {
   "cell_type": "code",
   "execution_count": 47,
   "id": "06da152e-f56e-4a81-a1f4-f9c822d3f747",
   "metadata": {},
   "outputs": [
    {
     "data": {
      "text/plain": [
       "['DD', 'II', 'BB']"
      ]
     },
     "execution_count": 47,
     "metadata": {},
     "output_type": "execute_result"
    }
   ],
   "source": [
    "faa.get('AA').neighbors"
   ]
  },
  {
   "cell_type": "code",
   "execution_count": 37,
   "id": "a08db549-da20-48b0-9370-f1e6e45da3d6",
   "metadata": {},
   "outputs": [
    {
     "data": {
      "text/plain": [
       "dict_keys(['AA', 'BB', 'CC', 'DD', 'EE', 'FF', 'GG', 'HH', 'II', 'JJ'])"
      ]
     },
     "execution_count": 37,
     "metadata": {},
     "output_type": "execute_result"
    }
   ],
   "source": [
    "tunnels.keys()"
   ]
  },
  {
   "cell_type": "code",
   "execution_count": 48,
   "id": "0ab70ff7-2f35-4ddb-9c3b-aa1fae323f71",
   "metadata": {},
   "outputs": [
    {
     "data": {
      "text/plain": [
       "{'BB', 'DD', 'II'}"
      ]
     },
     "execution_count": 48,
     "metadata": {},
     "output_type": "execute_result"
    }
   ],
   "source": [
    "tunnels['AA'].neighbors"
   ]
  },
  {
   "cell_type": "code",
   "execution_count": 49,
   "id": "36844489-0a87-456c-8723-cd82c60fc8bd",
   "metadata": {},
   "outputs": [],
   "source": [
    "from functools import reduce\n"
   ]
  },
  {
   "cell_type": "code",
   "execution_count": 56,
   "id": "f07ac8d5-dd72-4c84-9029-9c0e022e097d",
   "metadata": {},
   "outputs": [
    {
     "name": "stdout",
     "output_type": "stream",
     "text": [
      "13 20\n"
     ]
    }
   ],
   "source": [
    "valve_time = {\n",
    "    'BB': 1,\n",
    "    'DD': 5\n",
    "}\n",
    " \n",
    "print(tunnels['BB'].rate, tunnels['DD'].rate)"
   ]
  },
  {
   "cell_type": "code",
   "execution_count": 57,
   "id": "db5273f2-3d5c-4251-b232-f23bce78645a",
   "metadata": {},
   "outputs": [
    {
     "data": {
      "text/plain": [
       "113"
      ]
     },
     "execution_count": 57,
     "metadata": {},
     "output_type": "execute_result"
    }
   ],
   "source": [
    "tot = reduce(\n",
    "    lambda subtot, valve: subtot + valve_time[valve] * tunnels[valve].rate, \n",
    "    valve_time, 0)\n",
    "tot"
   ]
  },
  {
   "cell_type": "markdown",
   "id": "a75bbc63-ffc3-4366-b796-1e0394c0f618",
   "metadata": {},
   "source": [
    "##"
   ]
  }
 ],
 "metadata": {
  "kernelspec": {
   "display_name": "Python 3 (ipykernel)",
   "language": "python",
   "name": "python3"
  },
  "language_info": {
   "codemirror_mode": {
    "name": "ipython",
    "version": 3
   },
   "file_extension": ".py",
   "mimetype": "text/x-python",
   "name": "python",
   "nbconvert_exporter": "python",
   "pygments_lexer": "ipython3",
   "version": "3.10.6"
  }
 },
 "nbformat": 4,
 "nbformat_minor": 5
}
