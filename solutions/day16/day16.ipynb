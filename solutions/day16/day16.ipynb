{
 "cells": [
  {
   "cell_type": "markdown",
   "id": "3625eb83-a8d0-4b96-8f43-2757335d9ee3",
   "metadata": {},
   "source": [
    "# AoC 2022 Day 16 - Volcanos\n",
    "\n",
    "## Part one\n",
    "\n",
    "Given a network of valves and tunnels, and a time constraint, what is the max pressure that can be released?\n",
    "\n",
    "- moving through one tunnel takes 1 minute\n",
    "- opening takes 1 minute\n",
    "- 30 minutes total"
   ]
  },
  {
   "cell_type": "code",
   "execution_count": 1,
   "id": "114a7fad-c972-4954-b8b3-b69bfbecdd30",
   "metadata": {},
   "outputs": [],
   "source": [
    "def load_input(fp):\n",
    "    with open(fp) as f_in:\n",
    "        for line in f_in.read().splitlines():\n",
    "            yield line"
   ]
  },
  {
   "cell_type": "code",
   "execution_count": 2,
   "id": "ed0fcb28-0d49-4134-af01-05ab00d140a0",
   "metadata": {},
   "outputs": [],
   "source": [
    "test = [line for line in load_input(\"test.txt\")]"
   ]
  },
  {
   "cell_type": "code",
   "execution_count": 3,
   "id": "abce8781-28b4-469f-aa77-ad614ea51710",
   "metadata": {},
   "outputs": [
    {
     "data": {
      "text/plain": [
       "['Valve AA has flow rate=0; tunnels lead to valves DD, II, BB',\n",
       " 'Valve BB has flow rate=13; tunnels lead to valves CC, AA',\n",
       " 'Valve CC has flow rate=2; tunnels lead to valves DD, BB']"
      ]
     },
     "execution_count": 3,
     "metadata": {},
     "output_type": "execute_result"
    }
   ],
   "source": [
    "test[:3]"
   ]
  },
  {
   "cell_type": "markdown",
   "id": "2eaed1b0-bead-480b-94f5-f777d21dd0d6",
   "metadata": {},
   "source": [
    "Build a graph from the inputs.\n",
    "\n",
    "- each node has at least one children\n",
    "- each node has a `release` value\n",
    "- graph may be cyclic; one's children node may eventually lead back to the original node"
   ]
  },
  {
   "cell_type": "code",
   "execution_count": null,
   "id": "30641657-a0a5-42dc-b817-85fffba92bbd",
   "metadata": {},
   "outputs": [],
   "source": [
    "class Valve:\n",
    "    self.children = []\n",
    "    def __init__(rate, *children):\n",
    "        self.rate = rate\n",
    "        for child in children:\n",
    "            self.children.append(child)"
   ]
  }
 ],
 "metadata": {
  "kernelspec": {
   "display_name": "Python 3 (ipykernel)",
   "language": "python",
   "name": "python3"
  },
  "language_info": {
   "codemirror_mode": {
    "name": "ipython",
    "version": 3
   },
   "file_extension": ".py",
   "mimetype": "text/x-python",
   "name": "python",
   "nbconvert_exporter": "python",
   "pygments_lexer": "ipython3",
   "version": "3.10.6"
  }
 },
 "nbformat": 4,
 "nbformat_minor": 5
}
