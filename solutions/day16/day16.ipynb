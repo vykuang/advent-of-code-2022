{
 "cells": [
  {
   "cell_type": "markdown",
   "id": "3625eb83-a8d0-4b96-8f43-2757335d9ee3",
   "metadata": {},
   "source": [
    "# AoC 2022 Day 16 - Volcanos\n",
    "\n",
    "## Part one\n",
    "\n",
    "Given a network of valves and tunnels, and a time constraint, what is the max pressure that can be released?\n",
    "\n",
    "- moving through one tunnel takes 1 minute\n",
    "- opening takes 1 minute\n",
    "- 30 minutes total"
   ]
  },
  {
   "cell_type": "code",
   "execution_count": 1,
   "id": "114a7fad-c972-4954-b8b3-b69bfbecdd30",
   "metadata": {},
   "outputs": [],
   "source": [
    "def load_input(fp):\n",
    "    with open(fp) as f_in:\n",
    "        for line in f_in.read().splitlines():\n",
    "            yield line"
   ]
  },
  {
   "cell_type": "code",
   "execution_count": 2,
   "id": "ed0fcb28-0d49-4134-af01-05ab00d140a0",
   "metadata": {},
   "outputs": [],
   "source": [
    "# max for test = 1651\n",
    "test = [line for line in load_input(\"test.txt\")]"
   ]
  },
  {
   "cell_type": "code",
   "execution_count": 3,
   "id": "abce8781-28b4-469f-aa77-ad614ea51710",
   "metadata": {},
   "outputs": [
    {
     "data": {
      "text/plain": [
       "['Valve AA has flow rate=0; tunnels lead to valves DD, II, BB',\n",
       " 'Valve BB has flow rate=13; tunnels lead to valves CC, AA',\n",
       " 'Valve CC has flow rate=2; tunnels lead to valves DD, BB']"
      ]
     },
     "execution_count": 3,
     "metadata": {},
     "output_type": "execute_result"
    }
   ],
   "source": [
    "test[:3]"
   ]
  },
  {
   "cell_type": "markdown",
   "id": "2eaed1b0-bead-480b-94f5-f777d21dd0d6",
   "metadata": {},
   "source": [
    "Build a graph from the inputs.\n",
    "\n",
    "- each node has at least one children\n",
    "- each node has a `release` value\n",
    "- graph may be cyclic; one's children node may eventually lead back to the original node"
   ]
  },
  {
   "cell_type": "code",
   "execution_count": 25,
   "id": "30641657-a0a5-42dc-b817-85fffba92bbd",
   "metadata": {},
   "outputs": [],
   "source": [
    "class Valve:\n",
    "    def __init__(self, name, rate, children):\n",
    "        self.children = []\n",
    "        self.name = name\n",
    "        self.rate = rate\n",
    "        for child in children:\n",
    "            self.add(child)\n",
    "            \n",
    "    def add(self, child):\n",
    "        self.children.append(child)\n",
    "        \n",
    "    def __repr__(self):\n",
    "        return f\"Valve: {self.name}\\trate: {self.rate}\\tleads to: {self.children}\"\n",
    "            "
   ]
  },
  {
   "cell_type": "code",
   "execution_count": 10,
   "id": "2e07b342-a789-499e-a6d6-24a05d812676",
   "metadata": {},
   "outputs": [
    {
     "name": "stdout",
     "output_type": "stream",
     "text": [
      "AA 3 ['DD', 'II', 'BB']\n"
     ]
    }
   ],
   "source": [
    "foo = Valve('AA', 3, ['DD', 'II', 'BB'])\n",
    "print(foo.name, foo.rate, foo.children)"
   ]
  },
  {
   "cell_type": "code",
   "execution_count": 11,
   "id": "284f2a04-c239-47ca-b334-b161ff2e6c5d",
   "metadata": {},
   "outputs": [
    {
     "data": {
      "text/plain": [
       "['Valve',\n",
       " 'AA',\n",
       " 'has',\n",
       " 'flow',\n",
       " 'rate=0;',\n",
       " 'tunnels',\n",
       " 'lead',\n",
       " 'to',\n",
       " 'valves',\n",
       " 'DD,',\n",
       " 'II,',\n",
       " 'BB']"
      ]
     },
     "execution_count": 11,
     "metadata": {},
     "output_type": "execute_result"
    }
   ],
   "source": [
    "line = test[0]\n",
    "spl = line.split(\" \")\n",
    "spl"
   ]
  },
  {
   "cell_type": "code",
   "execution_count": 12,
   "id": "68a234bd-48fb-4f6b-9c62-7cc7eb951781",
   "metadata": {},
   "outputs": [],
   "source": [
    "import re"
   ]
  },
  {
   "cell_type": "code",
   "execution_count": 19,
   "id": "1b5b51b2-2181-4b07-aff9-8859f635e983",
   "metadata": {},
   "outputs": [
    {
     "data": {
      "text/plain": [
       "['DD', 'II', 'BB']"
      ]
     },
     "execution_count": 19,
     "metadata": {},
     "output_type": "execute_result"
    }
   ],
   "source": [
    "c = re.compile('Valve ([A-Z]{2}).*rate=(\\d+).*valves (.*)')\n",
    "child_c = re.compile('[A-Z]{2}')\n",
    "res = c.findall(line)\n",
    "child_c.findall(res[0][-1])"
   ]
  },
  {
   "cell_type": "code",
   "execution_count": 21,
   "id": "2b44b854-17f6-4cd8-b471-bbb5de0c8da7",
   "metadata": {},
   "outputs": [
    {
     "name": "stdout",
     "output_type": "stream",
     "text": [
      "['AA', 'DD', 'II', 'BB'] ['0']\n"
     ]
    }
   ],
   "source": [
    "v = re.compile('[A-Z]{2}')\n",
    "r = re.compile('rate=(\\d+)')\n",
    "v_m = v.findall(line)\n",
    "r_m = r.findall(line)\n",
    "print(v_m, r_m)"
   ]
  },
  {
   "cell_type": "code",
   "execution_count": 22,
   "id": "8de24a6d-8e20-41da-bd17-6927af151077",
   "metadata": {},
   "outputs": [],
   "source": [
    "def parse_valve_tunnel(line: str) -> list:\n",
    "    \"\"\"Parse input to return \n",
    "    - valve name: str\n",
    "    - rate: int\n",
    "    - children: list[str]\n",
    "    \"\"\"\n",
    "    v = re.compile('[A-Z]{2}')\n",
    "    r = re.compile('rate=(\\d+)')\n",
    "    v_m = v.findall(line)\n",
    "    r_m = r.findall(line)\n",
    "    return v_m[0], int(r_m[0]), v_m[1:]\n",
    "    "
   ]
  },
  {
   "cell_type": "code",
   "execution_count": 23,
   "id": "b44f0001-1121-442e-9dcd-2541d461ed4e",
   "metadata": {},
   "outputs": [
    {
     "data": {
      "text/plain": [
       "[('AA', 0, ['DD', 'II', 'BB']),\n",
       " ('BB', 13, ['CC', 'AA']),\n",
       " ('CC', 2, ['DD', 'BB'])]"
      ]
     },
     "execution_count": 23,
     "metadata": {},
     "output_type": "execute_result"
    }
   ],
   "source": [
    "parsed = [parse_valve_tunnel(line) for line in test]\n",
    "parsed[:3]"
   ]
  },
  {
   "cell_type": "code",
   "execution_count": 27,
   "id": "4b686114-c7db-46bc-b8ed-1f8affa0dc05",
   "metadata": {},
   "outputs": [
    {
     "name": "stdout",
     "output_type": "stream",
     "text": [
      "[Valve: AA\trate: 0\tleads to: ['DD', 'II', 'BB'], Valve: BB\trate: 13\tleads to: ['CC', 'AA'], Valve: CC\trate: 2\tleads to: ['DD', 'BB']]\n"
     ]
    }
   ],
   "source": [
    "nodes = [Valve(*parsed_line) for parsed_line in parsed]\n",
    "print(nodes[:3])"
   ]
  },
  {
   "cell_type": "code",
   "execution_count": null,
   "id": "a51fde16-77e9-4bdb-9ce2-033b3117a4c8",
   "metadata": {},
   "outputs": [],
   "source": []
  }
 ],
 "metadata": {
  "kernelspec": {
   "display_name": "Python 3 (ipykernel)",
   "language": "python",
   "name": "python3"
  },
  "language_info": {
   "codemirror_mode": {
    "name": "ipython",
    "version": 3
   },
   "file_extension": ".py",
   "mimetype": "text/x-python",
   "name": "python",
   "nbconvert_exporter": "python",
   "pygments_lexer": "ipython3",
   "version": "3.10.6"
  }
 },
 "nbformat": 4,
 "nbformat_minor": 5
}
