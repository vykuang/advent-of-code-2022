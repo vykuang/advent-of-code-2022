{
 "cells": [
  {
   "cell_type": "markdown",
   "id": "3625eb83-a8d0-4b96-8f43-2757335d9ee3",
   "metadata": {},
   "source": [
    "# AoC 2022 Day 16 - Volcanos\n",
    "\n",
    "## Part one\n",
    "\n",
    "Given a network of valves and tunnels, and a time constraint, what is the max pressure that can be released?\n",
    "\n",
    "- moving through one tunnel takes 1 minute\n",
    "- opening takes 1 minute\n",
    "- 30 minutes total"
   ]
  },
  {
   "cell_type": "code",
   "execution_count": 16,
   "id": "114a7fad-c972-4954-b8b3-b69bfbecdd30",
   "metadata": {},
   "outputs": [],
   "source": [
    "def load_input(fp):\n",
    "    with open(fp) as f_in:\n",
    "        for line in f_in.read().splitlines():\n",
    "            yield line"
   ]
  },
  {
   "cell_type": "code",
   "execution_count": 17,
   "id": "ed0fcb28-0d49-4134-af01-05ab00d140a0",
   "metadata": {},
   "outputs": [],
   "source": [
    "# max for test = 1651\n",
    "test = [line for line in load_input(\"test.txt\")]"
   ]
  },
  {
   "cell_type": "code",
   "execution_count": 18,
   "id": "abce8781-28b4-469f-aa77-ad614ea51710",
   "metadata": {},
   "outputs": [
    {
     "data": {
      "text/plain": [
       "['Valve AA has flow rate=0; tunnels lead to valves DD, II, BB',\n",
       " 'Valve BB has flow rate=13; tunnels lead to valves CC, AA',\n",
       " 'Valve CC has flow rate=2; tunnels lead to valves DD, BB']"
      ]
     },
     "execution_count": 18,
     "metadata": {},
     "output_type": "execute_result"
    }
   ],
   "source": [
    "test[:3]"
   ]
  },
  {
   "cell_type": "markdown",
   "id": "2eaed1b0-bead-480b-94f5-f777d21dd0d6",
   "metadata": {},
   "source": [
    "Build a graph from the inputs.\n",
    "\n",
    "- each node has at least one children\n",
    "- each node has a `release` value\n",
    "- graph may be cyclic; one's children node may eventually lead back to the original node"
   ]
  },
  {
   "cell_type": "code",
   "execution_count": 19,
   "id": "30641657-a0a5-42dc-b817-85fffba92bbd",
   "metadata": {},
   "outputs": [],
   "source": [
    "class Valve:\n",
    "    def __init__(self, name='', rate=0, neighbors=None, visited=False):\n",
    "        \"\"\"To use in defaultdict, must set defaults\"\"\"\n",
    "        self.name = name\n",
    "        self.rate = rate\n",
    "        self.visited = visited\n",
    "        if neighbors:\n",
    "            self.neighbors = set(neighbors)\n",
    "        else:\n",
    "            self.neighbors = None\n",
    "            \n",
    "        \n",
    "    def __repr__(self):\n",
    "        return self.name\n",
    "            "
   ]
  },
  {
   "cell_type": "code",
   "execution_count": 20,
   "id": "2e07b342-a789-499e-a6d6-24a05d812676",
   "metadata": {},
   "outputs": [
    {
     "name": "stdout",
     "output_type": "stream",
     "text": [
      "AA 3 {'DD', 'BB', 'II'}\n"
     ]
    }
   ],
   "source": [
    "foo = Valve('AA', 3, ['DD', 'II', 'BB'])\n",
    "print(foo.name, foo.rate, foo.neighbors)"
   ]
  },
  {
   "cell_type": "code",
   "execution_count": 21,
   "id": "284f2a04-c239-47ca-b334-b161ff2e6c5d",
   "metadata": {},
   "outputs": [
    {
     "data": {
      "text/plain": [
       "['Valve',\n",
       " 'AA',\n",
       " 'has',\n",
       " 'flow',\n",
       " 'rate=0;',\n",
       " 'tunnels',\n",
       " 'lead',\n",
       " 'to',\n",
       " 'valves',\n",
       " 'DD,',\n",
       " 'II,',\n",
       " 'BB']"
      ]
     },
     "execution_count": 21,
     "metadata": {},
     "output_type": "execute_result"
    }
   ],
   "source": [
    "line = test[0]\n",
    "spl = line.split(\" \")\n",
    "spl"
   ]
  },
  {
   "cell_type": "code",
   "execution_count": 22,
   "id": "68a234bd-48fb-4f6b-9c62-7cc7eb951781",
   "metadata": {},
   "outputs": [],
   "source": [
    "import re"
   ]
  },
  {
   "cell_type": "code",
   "execution_count": 23,
   "id": "1b5b51b2-2181-4b07-aff9-8859f635e983",
   "metadata": {},
   "outputs": [
    {
     "data": {
      "text/plain": [
       "['DD', 'II', 'BB']"
      ]
     },
     "execution_count": 23,
     "metadata": {},
     "output_type": "execute_result"
    }
   ],
   "source": [
    "c = re.compile('Valve ([A-Z]{2}).*rate=(\\d+).*valves (.*)')\n",
    "child_c = re.compile('[A-Z]{2}')\n",
    "res = c.findall(line)\n",
    "child_c.findall(res[0][-1])"
   ]
  },
  {
   "cell_type": "code",
   "execution_count": 24,
   "id": "2b44b854-17f6-4cd8-b471-bbb5de0c8da7",
   "metadata": {},
   "outputs": [
    {
     "name": "stdout",
     "output_type": "stream",
     "text": [
      "['AA', 'DD', 'II', 'BB'] ['0']\n"
     ]
    }
   ],
   "source": [
    "v = re.compile('[A-Z]{2}')\n",
    "r = re.compile('rate=(\\d+)')\n",
    "v_m = v.findall(line)\n",
    "r_m = r.findall(line)\n",
    "print(v_m, r_m)"
   ]
  },
  {
   "cell_type": "code",
   "execution_count": 25,
   "id": "8de24a6d-8e20-41da-bd17-6927af151077",
   "metadata": {},
   "outputs": [],
   "source": [
    "def parse_valve_tunnel(line: str) -> Valve:\n",
    "    \"\"\"Parse input to return \n",
    "    - valve name: str\n",
    "    - rate: int\n",
    "    - neighbors: list[str]\n",
    "    \n",
    "    in the form of a Valve object\n",
    "    \"\"\"\n",
    "    v = re.compile('[A-Z]{2}')\n",
    "    r = re.compile('rate=(\\d+)')\n",
    "    v_m = v.findall(line)\n",
    "    r_m = r.findall(line)\n",
    "    return Valve(v_m[0], int(r_m[0]), v_m[1:])\n",
    "    "
   ]
  },
  {
   "cell_type": "markdown",
   "id": "79e6b85c-2440-4d75-8000-0743499277c8",
   "metadata": {},
   "source": [
    "`defaultdict(list)` is better.\n",
    "\n",
    "- `graph['AA'] = [neighbors]`\n",
    "- `rate['AA'] = rate_AA`\n",
    "\n",
    "To do so with a class...\n",
    "\n",
    "```py\n",
    "graph['AA'].neighbors = [neighbors]\n",
    "graph['AA'].rate = rate_AA\n",
    "```\n",
    "\n",
    "key: valve_ID; value: `Valve` object\n",
    "\n",
    "perhaps a `defaultdict(node)`."
   ]
  },
  {
   "cell_type": "code",
   "execution_count": 28,
   "id": "8bd2e3a3-0dac-4120-b3ab-f73c6b101e26",
   "metadata": {},
   "outputs": [],
   "source": [
    "from collections import defaultdict\n",
    "\n",
    "tunnels = defaultdict(Valve)"
   ]
  },
  {
   "cell_type": "code",
   "execution_count": 29,
   "id": "97c357d9-ba0a-410b-b622-f5ec2d1fd50c",
   "metadata": {},
   "outputs": [],
   "source": [
    "fp = \"test.txt\"\n",
    "tunnels = {valve.name: valve\n",
    "            for line in load_input(fp)\n",
    "            if (valve := parse_valve_tunnel(line))}"
   ]
  },
  {
   "cell_type": "code",
   "execution_count": 30,
   "id": "2c815a9b-a4c8-4e54-8eeb-07fd41dc419a",
   "metadata": {},
   "outputs": [
    {
     "data": {
      "text/plain": [
       "AA"
      ]
     },
     "execution_count": 30,
     "metadata": {},
     "output_type": "execute_result"
    }
   ],
   "source": [
    "tunnels['AA']"
   ]
  },
  {
   "cell_type": "code",
   "execution_count": 31,
   "id": "36844489-0a87-456c-8723-cd82c60fc8bd",
   "metadata": {},
   "outputs": [],
   "source": [
    "from functools import reduce\n"
   ]
  },
  {
   "cell_type": "code",
   "execution_count": 32,
   "id": "f07ac8d5-dd72-4c84-9029-9c0e022e097d",
   "metadata": {},
   "outputs": [
    {
     "name": "stdout",
     "output_type": "stream",
     "text": [
      "13 20\n"
     ]
    }
   ],
   "source": [
    "valve_time = {\n",
    "    'BB': 1,\n",
    "    'DD': 5\n",
    "}\n",
    " \n",
    "print(tunnels['BB'].rate, tunnels['DD'].rate)"
   ]
  },
  {
   "cell_type": "code",
   "execution_count": 33,
   "id": "db5273f2-3d5c-4251-b232-f23bce78645a",
   "metadata": {},
   "outputs": [
    {
     "data": {
      "text/plain": [
       "113"
      ]
     },
     "execution_count": 33,
     "metadata": {},
     "output_type": "execute_result"
    }
   ],
   "source": [
    "tot = reduce(\n",
    "    lambda subtot, valve: subtot + valve_time[valve] * tunnels[valve].rate, \n",
    "    valve_time, 0)\n",
    "tot"
   ]
  },
  {
   "cell_type": "code",
   "execution_count": 34,
   "id": "ee34217a-881c-43ee-a58c-f544e5869814",
   "metadata": {},
   "outputs": [],
   "source": [
    "from collections import deque"
   ]
  },
  {
   "cell_type": "code",
   "execution_count": 35,
   "id": "401d62d1-13d6-4230-979e-4b5abba499a4",
   "metadata": {},
   "outputs": [],
   "source": [
    "def dijkstra_valves(graph: dict, source: str) -> dict:\n",
    "    \"\"\"\n",
    "    Find shortest paths between all pairs of vertices.\n",
    "    Assumes all neighboring nodes have distance=1\n",
    "    \n",
    "    Parameters\n",
    "    ---------\n",
    "    graph: dict\n",
    "        dict of all nodes, with Node object as the value\n",
    "    source: str\n",
    "        name of source node\n",
    "    \n",
    "    Returns\n",
    "    -------\n",
    "    shortest_paths: dict\n",
    "        keyed by nodes, the dict contains the shortest distance to each neighboring node\n",
    "    \"\"\"\n",
    "    # print(f'source: {source}')\n",
    "    # mark all nodes really far, and mark all nodes unvisited\n",
    "    dist = defaultdict(lambda: 1000) # {node1: dist1, node2: dist2, ...}\n",
    "    unvisited = list(graph.keys())\n",
    "    # prev = defaultdict(lambda: \"\")\n",
    "        \n",
    "    # print(f'unvisited:\\n{unvisited}')\n",
    "    # 2. assign distance=0 to origin\n",
    "    dist[source] = 0\n",
    "    \n",
    "    while unvisited:\n",
    "        # pop node with lowest dist\n",
    "        current = sorted(unvisited, key=lambda x: dist[x])[0]\n",
    "        unvisited.remove(current)\n",
    "        \n",
    "        # consider each neighbor\n",
    "        # print(f'current: {current}\\tneighbors: {graph[current].neighbors}')\n",
    "        for neighbor in graph[current].neighbors:\n",
    "            if neighbor in unvisited:\n",
    "                \n",
    "                # check if new dist is smaller than existing\n",
    "                if dist[neighbor] > (new_dist := dist[current] + 1):\n",
    "                    dist[neighbor] = new_dist\n",
    "                    # prev[neighbor] = current\n",
    "            \n",
    "    return dist"
   ]
  },
  {
   "cell_type": "code",
   "execution_count": 37,
   "id": "ca443e8a-3c20-4e39-bf11-b0b7f670e665",
   "metadata": {
    "tags": []
   },
   "outputs": [],
   "source": [
    "dist = dijkstra_valves(tunnels, 'AA')"
   ]
  },
  {
   "cell_type": "code",
   "execution_count": 38,
   "id": "9b08358a-70c7-4468-8ca9-e352ade9ab06",
   "metadata": {
    "tags": []
   },
   "outputs": [],
   "source": [
    "dists = {valve: dijkstra_valves(tunnels, valve) for valve in tunnels}"
   ]
  },
  {
   "cell_type": "code",
   "execution_count": 39,
   "id": "fe2c0742-f13d-4af0-acbd-4f2a9564dc02",
   "metadata": {},
   "outputs": [
    {
     "data": {
      "text/plain": [
       "defaultdict(<function __main__.dijkstra_valves.<locals>.<lambda>()>,\n",
       "            {'JJ': 0,\n",
       "             'AA': 2,\n",
       "             'BB': 3,\n",
       "             'CC': 4,\n",
       "             'DD': 3,\n",
       "             'EE': 4,\n",
       "             'FF': 5,\n",
       "             'GG': 6,\n",
       "             'HH': 7,\n",
       "             'II': 1})"
      ]
     },
     "execution_count": 39,
     "metadata": {},
     "output_type": "execute_result"
    }
   ],
   "source": [
    "dists['JJ']"
   ]
  },
  {
   "cell_type": "code",
   "execution_count": 40,
   "id": "2f81008f-ac05-4be0-8418-adbaef47669b",
   "metadata": {},
   "outputs": [],
   "source": [
    "from scipy.sparse import csr_matrix\n",
    "from scipy.sparse.csgraph import floyd_warshall, dijkstra"
   ]
  },
  {
   "cell_type": "markdown",
   "id": "a75bbc63-ffc3-4366-b796-1e0394c0f618",
   "metadata": {
    "tags": []
   },
   "source": [
    "Requires building a matrix to represent the graphs"
   ]
  },
  {
   "cell_type": "code",
   "execution_count": 41,
   "id": "d3b1a2da-e98e-4fae-b051-bf72aff20d34",
   "metadata": {},
   "outputs": [
    {
     "data": {
      "text/plain": [
       "'BB'"
      ]
     },
     "execution_count": 41,
     "metadata": {},
     "output_type": "execute_result"
    }
   ],
   "source": [
    "a_map = {i: valve_id for i, valve_id in enumerate(tunnels)}\n",
    "a_map[1]"
   ]
  },
  {
   "cell_type": "code",
   "execution_count": 42,
   "id": "f7389fda-7f93-4e5c-9674-052a01f5122f",
   "metadata": {},
   "outputs": [],
   "source": [
    "import numpy as np"
   ]
  },
  {
   "cell_type": "code",
   "execution_count": 43,
   "id": "e2eb68d1-17e4-4072-8415-5d9a11b42bdd",
   "metadata": {},
   "outputs": [],
   "source": [
    "num_v = len(tunnels)\n",
    "adj = np.empty(shape=(num_v, num_v), dtype=bool)"
   ]
  },
  {
   "cell_type": "code",
   "execution_count": 45,
   "id": "71658f37-5ec5-422d-b358-5c3fb2e09861",
   "metadata": {},
   "outputs": [
    {
     "data": {
      "text/plain": [
       "array([[False,  True, False,  True, False, False, False, False,  True,\n",
       "        False],\n",
       "       [ True, False,  True, False, False, False, False, False, False,\n",
       "        False],\n",
       "       [False,  True, False,  True, False, False, False, False, False,\n",
       "        False],\n",
       "       [ True, False,  True, False,  True, False, False, False, False,\n",
       "        False],\n",
       "       [False, False, False,  True, False,  True, False, False, False,\n",
       "        False],\n",
       "       [False, False, False, False,  True, False,  True, False, False,\n",
       "        False],\n",
       "       [False, False, False, False, False,  True, False,  True, False,\n",
       "        False],\n",
       "       [False, False, False, False, False, False,  True, False, False,\n",
       "        False],\n",
       "       [ True, False, False, False, False, False, False, False, False,\n",
       "         True],\n",
       "       [False, False, False, False, False, False, False, False,  True,\n",
       "        False]])"
      ]
     },
     "execution_count": 45,
     "metadata": {},
     "output_type": "execute_result"
    }
   ],
   "source": [
    "for i in range(num_v):\n",
    "    for j in range(num_v):\n",
    "        adj[i, j] = a_map[j] in tunnels[a_map[i]].neighbors\n",
    "        \n",
    "adj"
   ]
  },
  {
   "cell_type": "code",
   "execution_count": 46,
   "id": "58556748-83d0-455b-88af-11d251514177",
   "metadata": {
    "tags": []
   },
   "outputs": [],
   "source": [
    "adj = csr_matrix(adj)"
   ]
  },
  {
   "cell_type": "code",
   "execution_count": 47,
   "id": "87321a73-29c1-4a40-ac83-bddea105bdc0",
   "metadata": {
    "collapsed": true,
    "jupyter": {
     "outputs_hidden": true
    },
    "tags": []
   },
   "outputs": [
    {
     "data": {
      "text/plain": [
       "array([[0., 1., 2., 1., 2., 3., 4., 5., 1., 2.],\n",
       "       [1., 0., 1., 2., 3., 4., 5., 6., 2., 3.],\n",
       "       [2., 1., 0., 1., 2., 3., 4., 5., 3., 4.],\n",
       "       [1., 2., 1., 0., 1., 2., 3., 4., 2., 3.],\n",
       "       [2., 3., 2., 1., 0., 1., 2., 3., 3., 4.],\n",
       "       [3., 4., 3., 2., 1., 0., 1., 2., 4., 5.],\n",
       "       [4., 5., 4., 3., 2., 1., 0., 1., 5., 6.],\n",
       "       [5., 6., 5., 4., 3., 2., 1., 0., 6., 7.],\n",
       "       [1., 2., 3., 2., 3., 4., 5., 6., 0., 1.],\n",
       "       [2., 3., 4., 3., 4., 5., 6., 7., 1., 0.]])"
      ]
     },
     "execution_count": 47,
     "metadata": {},
     "output_type": "execute_result"
    }
   ],
   "source": [
    "dist_mat = floyd_warshall(\n",
    "    csgraph=adj, \n",
    "    directed=False, \n",
    "    return_predecessors=False,\n",
    "    unweighted=False)\n",
    "dist_mat"
   ]
  },
  {
   "cell_type": "code",
   "execution_count": 50,
   "id": "0977a60b-cf89-4aeb-9a11-4851cabc63f8",
   "metadata": {
    "collapsed": true,
    "jupyter": {
     "outputs_hidden": true
    },
    "tags": []
   },
   "outputs": [
    {
     "data": {
      "text/plain": [
       "{'AA': defaultdict(<function __main__.dijkstra_valves.<locals>.<lambda>()>,\n",
       "             {'AA': 0,\n",
       "              'BB': 1,\n",
       "              'CC': 2,\n",
       "              'DD': 1,\n",
       "              'EE': 2,\n",
       "              'FF': 3,\n",
       "              'GG': 4,\n",
       "              'HH': 5,\n",
       "              'II': 1,\n",
       "              'JJ': 2}),\n",
       " 'BB': defaultdict(<function __main__.dijkstra_valves.<locals>.<lambda>()>,\n",
       "             {'BB': 0,\n",
       "              'AA': 1,\n",
       "              'CC': 1,\n",
       "              'DD': 2,\n",
       "              'EE': 3,\n",
       "              'FF': 4,\n",
       "              'GG': 5,\n",
       "              'HH': 6,\n",
       "              'II': 2,\n",
       "              'JJ': 3}),\n",
       " 'CC': defaultdict(<function __main__.dijkstra_valves.<locals>.<lambda>()>,\n",
       "             {'CC': 0,\n",
       "              'AA': 2,\n",
       "              'BB': 1,\n",
       "              'DD': 1,\n",
       "              'EE': 2,\n",
       "              'FF': 3,\n",
       "              'GG': 4,\n",
       "              'HH': 5,\n",
       "              'II': 3,\n",
       "              'JJ': 4}),\n",
       " 'DD': defaultdict(<function __main__.dijkstra_valves.<locals>.<lambda>()>,\n",
       "             {'DD': 0,\n",
       "              'AA': 1,\n",
       "              'BB': 2,\n",
       "              'CC': 1,\n",
       "              'EE': 1,\n",
       "              'FF': 2,\n",
       "              'GG': 3,\n",
       "              'HH': 4,\n",
       "              'II': 2,\n",
       "              'JJ': 3}),\n",
       " 'EE': defaultdict(<function __main__.dijkstra_valves.<locals>.<lambda>()>,\n",
       "             {'EE': 0,\n",
       "              'AA': 2,\n",
       "              'BB': 3,\n",
       "              'CC': 2,\n",
       "              'DD': 1,\n",
       "              'FF': 1,\n",
       "              'GG': 2,\n",
       "              'HH': 3,\n",
       "              'II': 3,\n",
       "              'JJ': 4}),\n",
       " 'FF': defaultdict(<function __main__.dijkstra_valves.<locals>.<lambda>()>,\n",
       "             {'FF': 0,\n",
       "              'AA': 3,\n",
       "              'BB': 4,\n",
       "              'CC': 3,\n",
       "              'DD': 2,\n",
       "              'EE': 1,\n",
       "              'GG': 1,\n",
       "              'HH': 2,\n",
       "              'II': 4,\n",
       "              'JJ': 5}),\n",
       " 'GG': defaultdict(<function __main__.dijkstra_valves.<locals>.<lambda>()>,\n",
       "             {'GG': 0,\n",
       "              'AA': 4,\n",
       "              'BB': 5,\n",
       "              'CC': 4,\n",
       "              'DD': 3,\n",
       "              'EE': 2,\n",
       "              'FF': 1,\n",
       "              'HH': 1,\n",
       "              'II': 5,\n",
       "              'JJ': 6}),\n",
       " 'HH': defaultdict(<function __main__.dijkstra_valves.<locals>.<lambda>()>,\n",
       "             {'HH': 0,\n",
       "              'AA': 5,\n",
       "              'BB': 6,\n",
       "              'CC': 5,\n",
       "              'DD': 4,\n",
       "              'EE': 3,\n",
       "              'FF': 2,\n",
       "              'GG': 1,\n",
       "              'II': 6,\n",
       "              'JJ': 7}),\n",
       " 'II': defaultdict(<function __main__.dijkstra_valves.<locals>.<lambda>()>,\n",
       "             {'II': 0,\n",
       "              'AA': 1,\n",
       "              'BB': 2,\n",
       "              'CC': 3,\n",
       "              'DD': 2,\n",
       "              'EE': 3,\n",
       "              'FF': 4,\n",
       "              'GG': 5,\n",
       "              'HH': 6,\n",
       "              'JJ': 1}),\n",
       " 'JJ': defaultdict(<function __main__.dijkstra_valves.<locals>.<lambda>()>,\n",
       "             {'JJ': 0,\n",
       "              'AA': 2,\n",
       "              'BB': 3,\n",
       "              'CC': 4,\n",
       "              'DD': 3,\n",
       "              'EE': 4,\n",
       "              'FF': 5,\n",
       "              'GG': 6,\n",
       "              'HH': 7,\n",
       "              'II': 1})}"
      ]
     },
     "execution_count": 50,
     "metadata": {},
     "output_type": "execute_result"
    }
   ],
   "source": [
    "dists"
   ]
  },
  {
   "cell_type": "code",
   "execution_count": 81,
   "id": "ca4249e6-d841-4ed0-bbef-d6e8f69d061d",
   "metadata": {},
   "outputs": [],
   "source": [
    "def tunnel_dfs(graph: dict, current: str, path: defaultdict(int), time_remain: int = 30, time_lim: int = 30) -> list:\n",
    "    \"\"\"\n",
    "    Search through all the possible paths in our volcano network\n",
    "    \n",
    "    Params\n",
    "    ------\n",
    "    graph: dict\n",
    "        dict of all Valve nodes which contains release rate and neighbors\n",
    "        \n",
    "    source: str\n",
    "        name of starting Valave node\n",
    "        \n",
    "    path: dict\n",
    "        current path, {valve1: t_remain1, valve2: t_remain2, ...}. If a valve\n",
    "        is in path, it has been visited in current path\n",
    "        \n",
    "    time_remain: int\n",
    "        time remaining at current node\n",
    "        \n",
    "    time_lim: int\n",
    "        time limit; accounts for 1 min valve opening and 1 min travelling\n",
    "        between valve nodes\n",
    "        \n",
    "    Returns\n",
    "    -------\n",
    "    valve_paths: list\n",
    "        contains dict {valve_id: time_release, ...} which represents each path\n",
    "        and the order and timing in which the valves were opened\n",
    "        e.g. if valve 'BB' was reached in minute 1, and opened by minute 2, the\n",
    "        first entry would be {\"BB\": 28, ...}\n",
    "    \"\"\"\n",
    "    # print(f'current: {current}\\ttime_remain: {time_remain}')\n",
    "    if not path:\n",
    "        # print('path is empty; initialize time_remain')\n",
    "        time_remain = time_lim\n",
    "        \n",
    "    # do path recording here\n",
    "    path[current] = time_remain\n",
    "    candidates = [node for node in tunnels \n",
    "                  if (node not in path.keys()) \n",
    "                  and (time_remain >= dists[current][node] + 2)]\n",
    "    # print(f'neighbors:\\n{candidates}')\n",
    "    if candidates:\n",
    "        for node in candidates:\n",
    "            # yield from handles the fact that each tunnel_dfs call has a\n",
    "            # for node in candidates: yield ...\n",
    "            # t - dist - 1 accounts for valve opening\n",
    "            yield from tunnel_dfs(graph, node, path.copy(), time_remain - dists[current][node] - 1, time_lim)\n",
    "    else:\n",
    "        # no more viable candidates; end of path reached\n",
    "        yield path\n",
    "        "
   ]
  },
  {
   "cell_type": "code",
   "execution_count": 106,
   "id": "0fc8b58b-75de-42ac-b266-5935165a2fba",
   "metadata": {},
   "outputs": [],
   "source": [
    "path = defaultdict(int)\n",
    "paths = tunnel_dfs(graph=tunnels, current='AA', path=path)"
   ]
  },
  {
   "cell_type": "code",
   "execution_count": 107,
   "id": "6ff5e3c7-5f0b-47ff-92b0-83baccd8822b",
   "metadata": {},
   "outputs": [
    {
     "name": "stdout",
     "output_type": "stream",
     "text": [
      "max pressure released: ('AA>DD>BB>JJ>HH>EE>CC>FF', 1651)\n"
     ]
    }
   ],
   "source": [
    "totals = {\">\".join(p.keys()): reduce(\n",
    "    lambda subtot, valve: subtot + p[valve] * tunnels[valve].rate, \n",
    "    p, 0) for p in paths}\n",
    "print(f\"max pressure released: {max(totals.items(), key=lambda p: p[1])}\")"
   ]
  },
  {
   "cell_type": "code",
   "execution_count": 101,
   "id": "f871a511-e1cb-4a97-8676-85128c62a798",
   "metadata": {},
   "outputs": [],
   "source": [
    "def get_total_keys(totals):\n",
    "    yield from totals.keys()"
   ]
  },
  {
   "cell_type": "code",
   "execution_count": 104,
   "id": "2835b6c1-ea4e-4893-a9be-123e635e485f",
   "metadata": {},
   "outputs": [
    {
     "data": {
      "text/plain": [
       "'AA>BB>CC>DD>EE>FF>GG>II>HH'"
      ]
     },
     "execution_count": 104,
     "metadata": {},
     "output_type": "execute_result"
    }
   ],
   "source": [
    "p = get_total_keys(totals)\n",
    "next(p)"
   ]
  },
  {
   "cell_type": "code",
   "execution_count": 85,
   "id": "78738ae3-2f89-4522-86a4-2615f33eec51",
   "metadata": {
    "collapsed": true,
    "jupyter": {
     "outputs_hidden": true
    },
    "tags": []
   },
   "outputs": [
    {
     "name": "stdout",
     "output_type": "stream",
     "text": [
      "defaultdict(<class 'int'>, {'AA': 30, 'BB': 28, 'CC': 26, 'DD': 24, 'EE': 22, 'GG': 19, 'HH': 17, 'JJ': 9, 'II': 7, 'FF': 2})\n",
      "1525\n"
     ]
    },
    {
     "name": "stdin",
     "output_type": "stream",
     "text": [
      " 0\n"
     ]
    },
    {
     "name": "stdout",
     "output_type": "stream",
     "text": [
      "defaultdict(<class 'int'>, {'AA': 30, 'BB': 28, 'CC': 26, 'DD': 24, 'EE': 22, 'GG': 19, 'II': 13, 'FF': 8, 'HH': 5})\n",
      "1072\n"
     ]
    },
    {
     "name": "stdin",
     "output_type": "stream",
     "text": [
      " 0\n"
     ]
    },
    {
     "name": "stdout",
     "output_type": "stream",
     "text": [
      "defaultdict(<class 'int'>, {'AA': 30, 'BB': 28, 'CC': 26, 'DD': 24, 'EE': 22, 'GG': 19, 'II': 13, 'FF': 8, 'JJ': 2})\n",
      "1004\n"
     ]
    },
    {
     "name": "stdin",
     "output_type": "stream",
     "text": [
      " 0\n"
     ]
    },
    {
     "name": "stdout",
     "output_type": "stream",
     "text": [
      "defaultdict(<class 'int'>, {'AA': 30, 'BB': 28, 'CC': 26, 'DD': 24, 'EE': 22, 'GG': 19, 'II': 13, 'HH': 6, 'FF': 3})\n",
      "1094\n"
     ]
    },
    {
     "name": "stdin",
     "output_type": "stream",
     "text": [
      " 0\n"
     ]
    },
    {
     "name": "stdout",
     "output_type": "stream",
     "text": [
      "defaultdict(<class 'int'>, {'AA': 30, 'BB': 28, 'CC': 26, 'DD': 24, 'EE': 22, 'GG': 19, 'II': 13, 'JJ': 11, 'FF': 5, 'HH': 2})\n",
      "1237\n"
     ]
    },
    {
     "name": "stdin",
     "output_type": "stream",
     "text": [
      " 0\n"
     ]
    },
    {
     "name": "stdout",
     "output_type": "stream",
     "text": [
      "defaultdict(<class 'int'>, {'AA': 30, 'BB': 28, 'CC': 26, 'DD': 24, 'EE': 22, 'GG': 19, 'II': 13, 'JJ': 11, 'HH': 3})\n",
      "1259\n"
     ]
    },
    {
     "name": "stdin",
     "output_type": "stream",
     "text": [
      " 0\n"
     ]
    },
    {
     "name": "stdout",
     "output_type": "stream",
     "text": [
      "defaultdict(<class 'int'>, {'AA': 30, 'BB': 28, 'CC': 26, 'DD': 24, 'EE': 22, 'GG': 19, 'JJ': 12, 'FF': 6, 'HH': 3})\n",
      "1280\n"
     ]
    },
    {
     "name": "stdin",
     "output_type": "stream",
     "text": [
      " 0\n"
     ]
    },
    {
     "name": "stdout",
     "output_type": "stream",
     "text": [
      "defaultdict(<class 'int'>, {'AA': 30, 'BB': 28, 'CC': 26, 'DD': 24, 'EE': 22, 'GG': 19, 'JJ': 12, 'FF': 6, 'II': 1})\n",
      "1214\n"
     ]
    },
    {
     "name": "stdin",
     "output_type": "stream",
     "text": [
      " 0\n"
     ]
    },
    {
     "name": "stdout",
     "output_type": "stream",
     "text": [
      "defaultdict(<class 'int'>, {'AA': 30, 'BB': 28, 'CC': 26, 'DD': 24, 'EE': 22, 'GG': 19, 'JJ': 12, 'HH': 4, 'FF': 1})\n",
      "1302\n"
     ]
    },
    {
     "name": "stdin",
     "output_type": "stream",
     "text": [
      " 0\n"
     ]
    },
    {
     "name": "stdout",
     "output_type": "stream",
     "text": [
      "defaultdict(<class 'int'>, {'AA': 30, 'BB': 28, 'CC': 26, 'DD': 24, 'EE': 22, 'GG': 19, 'JJ': 12, 'II': 10, 'FF': 5, 'HH': 2})\n",
      "1258\n"
     ]
    },
    {
     "ename": "KeyboardInterrupt",
     "evalue": "Interrupted by user",
     "output_type": "error",
     "traceback": [
      "\u001b[0;31m---------------------------------------------------------------------------\u001b[0m",
      "\u001b[0;31mKeyboardInterrupt\u001b[0m                         Traceback (most recent call last)",
      "Cell \u001b[0;32mIn[85], line 7\u001b[0m\n\u001b[1;32m      3\u001b[0m tot \u001b[38;5;241m=\u001b[39m reduce(\n\u001b[1;32m      4\u001b[0m \u001b[38;5;28;01mlambda\u001b[39;00m subtot, valve: subtot \u001b[38;5;241m+\u001b[39m path[valve] \u001b[38;5;241m*\u001b[39m tunnels[valve]\u001b[38;5;241m.\u001b[39mrate, \n\u001b[1;32m      5\u001b[0m path, \u001b[38;5;241m0\u001b[39m)\n\u001b[1;32m      6\u001b[0m \u001b[38;5;28mprint\u001b[39m(tot)\n\u001b[0;32m----> 7\u001b[0m \u001b[38;5;28;43minput\u001b[39;49m\u001b[43m(\u001b[49m\u001b[43m)\u001b[49m\n",
      "File \u001b[0;32m~/.cache/pypoetry/virtualenvs/advent-of-code-dMWO4FqW-py3.10/lib/python3.10/site-packages/ipykernel/kernelbase.py:1187\u001b[0m, in \u001b[0;36mKernel.raw_input\u001b[0;34m(self, prompt)\u001b[0m\n\u001b[1;32m   1185\u001b[0m     msg \u001b[38;5;241m=\u001b[39m \u001b[38;5;124m\"\u001b[39m\u001b[38;5;124mraw_input was called, but this frontend does not support input requests.\u001b[39m\u001b[38;5;124m\"\u001b[39m\n\u001b[1;32m   1186\u001b[0m     \u001b[38;5;28;01mraise\u001b[39;00m StdinNotImplementedError(msg)\n\u001b[0;32m-> 1187\u001b[0m \u001b[38;5;28;01mreturn\u001b[39;00m \u001b[38;5;28;43mself\u001b[39;49m\u001b[38;5;241;43m.\u001b[39;49m\u001b[43m_input_request\u001b[49m\u001b[43m(\u001b[49m\n\u001b[1;32m   1188\u001b[0m \u001b[43m    \u001b[49m\u001b[38;5;28;43mstr\u001b[39;49m\u001b[43m(\u001b[49m\u001b[43mprompt\u001b[49m\u001b[43m)\u001b[49m\u001b[43m,\u001b[49m\n\u001b[1;32m   1189\u001b[0m \u001b[43m    \u001b[49m\u001b[38;5;28;43mself\u001b[39;49m\u001b[38;5;241;43m.\u001b[39;49m\u001b[43m_parent_ident\u001b[49m\u001b[43m[\u001b[49m\u001b[38;5;124;43m\"\u001b[39;49m\u001b[38;5;124;43mshell\u001b[39;49m\u001b[38;5;124;43m\"\u001b[39;49m\u001b[43m]\u001b[49m\u001b[43m,\u001b[49m\n\u001b[1;32m   1190\u001b[0m \u001b[43m    \u001b[49m\u001b[38;5;28;43mself\u001b[39;49m\u001b[38;5;241;43m.\u001b[39;49m\u001b[43mget_parent\u001b[49m\u001b[43m(\u001b[49m\u001b[38;5;124;43m\"\u001b[39;49m\u001b[38;5;124;43mshell\u001b[39;49m\u001b[38;5;124;43m\"\u001b[39;49m\u001b[43m)\u001b[49m\u001b[43m,\u001b[49m\n\u001b[1;32m   1191\u001b[0m \u001b[43m    \u001b[49m\u001b[43mpassword\u001b[49m\u001b[38;5;241;43m=\u001b[39;49m\u001b[38;5;28;43;01mFalse\u001b[39;49;00m\u001b[43m,\u001b[49m\n\u001b[1;32m   1192\u001b[0m \u001b[43m\u001b[49m\u001b[43m)\u001b[49m\n",
      "File \u001b[0;32m~/.cache/pypoetry/virtualenvs/advent-of-code-dMWO4FqW-py3.10/lib/python3.10/site-packages/ipykernel/kernelbase.py:1230\u001b[0m, in \u001b[0;36mKernel._input_request\u001b[0;34m(self, prompt, ident, parent, password)\u001b[0m\n\u001b[1;32m   1227\u001b[0m \u001b[38;5;28;01mexcept\u001b[39;00m \u001b[38;5;167;01mKeyboardInterrupt\u001b[39;00m:\n\u001b[1;32m   1228\u001b[0m     \u001b[38;5;66;03m# re-raise KeyboardInterrupt, to truncate traceback\u001b[39;00m\n\u001b[1;32m   1229\u001b[0m     msg \u001b[38;5;241m=\u001b[39m \u001b[38;5;124m\"\u001b[39m\u001b[38;5;124mInterrupted by user\u001b[39m\u001b[38;5;124m\"\u001b[39m\n\u001b[0;32m-> 1230\u001b[0m     \u001b[38;5;28;01mraise\u001b[39;00m \u001b[38;5;167;01mKeyboardInterrupt\u001b[39;00m(msg) \u001b[38;5;28;01mfrom\u001b[39;00m \u001b[38;5;28mNone\u001b[39m\n\u001b[1;32m   1231\u001b[0m \u001b[38;5;28;01mexcept\u001b[39;00m \u001b[38;5;167;01mException\u001b[39;00m:\n\u001b[1;32m   1232\u001b[0m     \u001b[38;5;28mself\u001b[39m\u001b[38;5;241m.\u001b[39mlog\u001b[38;5;241m.\u001b[39mwarning(\u001b[38;5;124m\"\u001b[39m\u001b[38;5;124mInvalid Message:\u001b[39m\u001b[38;5;124m\"\u001b[39m, exc_info\u001b[38;5;241m=\u001b[39m\u001b[38;5;28;01mTrue\u001b[39;00m)\n",
      "\u001b[0;31mKeyboardInterrupt\u001b[0m: Interrupted by user"
     ]
    }
   ],
   "source": [
    "for path in paths:\n",
    "    print(path)\n",
    "    tot = reduce(\n",
    "    lambda subtot, valve: subtot + path[valve] * tunnels[valve].rate, \n",
    "    path, 0)\n",
    "    print(tot)\n",
    "    input()"
   ]
  },
  {
   "cell_type": "code",
   "execution_count": 54,
   "id": "7d02440c-2fce-4535-b3b7-8aa56de3a4dc",
   "metadata": {},
   "outputs": [
    {
     "data": {
      "text/plain": [
       "defaultdict(<function __main__.dijkstra_valves.<locals>.<lambda>()>,\n",
       "            {'BB': 0,\n",
       "             'AA': 1,\n",
       "             'CC': 1,\n",
       "             'DD': 2,\n",
       "             'EE': 3,\n",
       "             'FF': 4,\n",
       "             'GG': 5,\n",
       "             'HH': 6,\n",
       "             'II': 2,\n",
       "             'JJ': 3})"
      ]
     },
     "execution_count": 54,
     "metadata": {},
     "output_type": "execute_result"
    }
   ],
   "source": [
    "time_release = 26\n",
    "time_lim = 30\n",
    "time_remain = 4\n",
    "path = {'AA': 29, 'BB': 27}\n",
    "current = 'BB'\n",
    "dists[current]"
   ]
  },
  {
   "cell_type": "code",
   "execution_count": 55,
   "id": "90866140-eef5-4e37-aede-252a05d24582",
   "metadata": {},
   "outputs": [
    {
     "data": {
      "text/plain": [
       "['CC', 'DD', 'II']"
      ]
     },
     "execution_count": 55,
     "metadata": {},
     "output_type": "execute_result"
    }
   ],
   "source": [
    "candidates = [node for node in tunnels \n",
    "                  if (node not in path.keys()) \n",
    "                  and (time_remain >= dists[current][node] + 2)]\n",
    "candidates"
   ]
  },
  {
   "cell_type": "code",
   "execution_count": null,
   "id": "5c83f056-fc62-4378-a244-71f2b2a88347",
   "metadata": {},
   "outputs": [],
   "source": []
  }
 ],
 "metadata": {
  "kernelspec": {
   "display_name": "Python 3 (ipykernel)",
   "language": "python",
   "name": "python3"
  },
  "language_info": {
   "codemirror_mode": {
    "name": "ipython",
    "version": 3
   },
   "file_extension": ".py",
   "mimetype": "text/x-python",
   "name": "python",
   "nbconvert_exporter": "python",
   "pygments_lexer": "ipython3",
   "version": "3.10.6"
  }
 },
 "nbformat": 4,
 "nbformat_minor": 5
}
